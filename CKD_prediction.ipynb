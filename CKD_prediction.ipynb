{
  "nbformat": 4,
  "nbformat_minor": 0,
  "metadata": {
    "colab": {
      "provenance": []
    },
    "kernelspec": {
      "name": "python3",
      "display_name": "Python 3"
    },
    "language_info": {
      "name": "python"
    }
  },
  "cells": [
    {
      "cell_type": "code",
      "execution_count": null,
      "metadata": {
        "colab": {
          "base_uri": "https://localhost:8080/"
        },
        "id": "UKqBOmv5tcD9",
        "outputId": "ec80e6fd-aa3b-4afa-fcde-395bf68990ac"
      },
      "outputs": [
        {
          "output_type": "stream",
          "name": "stdout",
          "text": [
            "Drive already mounted at /content/drive; to attempt to forcibly remount, call drive.mount(\"/content/drive\", force_remount=True).\n"
          ]
        }
      ],
      "source": [
        "# Mounting google drive\n",
        "\n",
        "from google.colab import drive\n",
        "drive.mount('/content/drive')"
      ]
    },
    {
      "cell_type": "code",
      "source": [
        "# Import libraries\n",
        "import numpy as np\n",
        "from scipy import stats\n",
        "import pandas as pd\n",
        "import math\n",
        "import matplotlib as mpl\n",
        "import matplotlib.pyplot as plt\n",
        "import seaborn as sns\n",
        "from sklearn.feature_selection import SelectKBest\n",
        "from sklearn.feature_selection import chi2\n",
        "\n",
        "from sklearn.linear_model import LogisticRegression\n",
        "from sklearn.model_selection import cross_val_score\n",
        "from sklearn.model_selection import train_test_split\n",
        "from sklearn.model_selection import GridSearchCV\n",
        "from sklearn.metrics import accuracy_score, roc_auc_score, auc, mean_squared_error, average_precision_score, confusion_matrix, f1_score, precision_score, precision_recall_curve, recall_score\n",
        "from sklearn.metrics import roc_curve, mean_absolute_error, r2_score, classification_report, plot_confusion_matrix\n",
        "from sklearn.utils import shuffle\n",
        "from sklearn.preprocessing import StandardScaler\n",
        "\n",
        "import matplotlib.pyplot as plt\n",
        "from IPython.display import Image\n",
        "import graphviz\n",
        "import pydotplus"
      ],
      "metadata": {
        "id": "T0L8pxddtflw"
      },
      "execution_count": null,
      "outputs": []
    },
    {
      "cell_type": "code",
      "source": [
        "# Conduct an exploratory screening of the dataset provided\n",
        "\n",
        "df = pd.read_excel(\"/content/drive/MyDrive/IDS506/Assignment 6 CKD/Chronic Kidney Disease Dataset.xlsx\", sheet_name='All Data')\n",
        "print(\"No. of variables = \",len(df.columns))\n",
        "print(\"No. of records = \",len(df))"
      ],
      "metadata": {
        "colab": {
          "base_uri": "https://localhost:8080/"
        },
        "id": "5BTJKWAFtigo",
        "outputId": "785b5070-7034-43aa-cb37-8e4b2bb51b93"
      },
      "execution_count": null,
      "outputs": [
        {
          "output_type": "stream",
          "name": "stdout",
          "text": [
            "No. of variables =  34\n",
            "No. of records =  8819\n"
          ]
        }
      ]
    },
    {
      "cell_type": "code",
      "source": [
        "df.info()"
      ],
      "metadata": {
        "colab": {
          "base_uri": "https://localhost:8080/"
        },
        "id": "duD66D25uGuY",
        "outputId": "48004249-514a-41de-865e-596ecac9fa63"
      },
      "execution_count": null,
      "outputs": [
        {
          "output_type": "stream",
          "name": "stdout",
          "text": [
            "<class 'pandas.core.frame.DataFrame'>\n",
            "RangeIndex: 8819 entries, 0 to 8818\n",
            "Data columns (total 34 columns):\n",
            " #   Column            Non-Null Count  Dtype  \n",
            "---  ------            --------------  -----  \n",
            " 0   ID                8819 non-null   float64\n",
            " 1   Age               8819 non-null   float64\n",
            " 2   Female            8819 non-null   float64\n",
            " 3   Racegrp           8819 non-null   object \n",
            " 4   Educ              8799 non-null   float64\n",
            " 5   Unmarried         8367 non-null   float64\n",
            " 6   Income            7653 non-null   float64\n",
            " 7   CareSource        8819 non-null   object \n",
            " 8   Insured           8706 non-null   float64\n",
            " 9   Weight            8625 non-null   float64\n",
            " 10  Height            8628 non-null   float64\n",
            " 11  BMI               8529 non-null   float64\n",
            " 12  Obese             8529 non-null   float64\n",
            " 13  Waist             8505 non-null   float64\n",
            " 14  SBP               8511 non-null   float64\n",
            " 15  DBP               8439 non-null   float64\n",
            " 16  HDL               8802 non-null   float64\n",
            " 17  LDL               8801 non-null   float64\n",
            " 18  Total Chol        8803 non-null   float64\n",
            " 19  Dyslipidemia      8819 non-null   float64\n",
            " 20  PVD               8819 non-null   float64\n",
            " 21  Activity          8809 non-null   float64\n",
            " 22  PoorVision        8252 non-null   float64\n",
            " 23  Smoker            8819 non-null   float64\n",
            " 24  Hypertension      8739 non-null   float64\n",
            " 25  Fam Hypertension  8819 non-null   float64\n",
            " 26  Diabetes          8817 non-null   float64\n",
            " 27  Fam Diabetes      8819 non-null   float64\n",
            " 28  Stroke            8808 non-null   float64\n",
            " 29  CVD               8796 non-null   float64\n",
            " 30  Fam CVD           8400 non-null   float64\n",
            " 31  CHF               8783 non-null   float64\n",
            " 32  Anemia            8813 non-null   float64\n",
            " 33  CKD               6000 non-null   float64\n",
            "dtypes: float64(32), object(2)\n",
            "memory usage: 2.3+ MB\n"
          ]
        }
      ]
    },
    {
      "cell_type": "code",
      "source": [
        "print(df)"
      ],
      "metadata": {
        "colab": {
          "base_uri": "https://localhost:8080/"
        },
        "id": "t4Z4420UubUu",
        "outputId": "666e88ba-6f13-47d9-ca26-1a7f2c23bda6"
      },
      "execution_count": null,
      "outputs": [
        {
          "output_type": "stream",
          "name": "stdout",
          "text": [
            "          ID   Age  Female Racegrp  Educ  Unmarried  Income CareSource  \\\n",
            "0        1.0  65.0     1.0   white   0.0        0.0     1.0      other   \n",
            "1        2.0  36.0     1.0   hispa   0.0        NaN     1.0    noplace   \n",
            "2        3.0  66.0     1.0   white   0.0        1.0     0.0    noplace   \n",
            "3        4.0  54.0     1.0   white   1.0        0.0     0.0      DrHMO   \n",
            "4        5.0  63.0     1.0   black   0.0        0.0     NaN     clinic   \n",
            "...      ...   ...     ...     ...   ...        ...     ...        ...   \n",
            "8814  8815.0  32.0     1.0   white   1.0        0.0     1.0      DrHMO   \n",
            "8815  8816.0  77.0     1.0   white   0.0        1.0     0.0     clinic   \n",
            "8816  8817.0  56.0     1.0   white   0.0        0.0     NaN      DrHMO   \n",
            "8817  8818.0  25.0     1.0   black   0.0        1.0     NaN     clinic   \n",
            "8818  8819.0  60.0     0.0   black   0.0        1.0     0.0    noplace   \n",
            "\n",
            "      Insured  Weight  ...  Hypertension  Fam Hypertension  Diabetes  \\\n",
            "0         1.0    56.0  ...           0.0               0.0       0.0   \n",
            "1         0.0    60.2  ...           0.0               0.0       0.0   \n",
            "2         1.0    83.9  ...           0.0               0.0       1.0   \n",
            "3         1.0    69.4  ...           0.0               0.0       0.0   \n",
            "4         1.0    73.1  ...           1.0               0.0       0.0   \n",
            "...       ...     ...  ...           ...               ...       ...   \n",
            "8814      1.0    80.4  ...           0.0               0.0       0.0   \n",
            "8815      1.0    67.5  ...           1.0               0.0       0.0   \n",
            "8816      1.0    49.0  ...           0.0               0.0       0.0   \n",
            "8817      0.0    84.2  ...           0.0               0.0       0.0   \n",
            "8818      1.0    74.9  ...           0.0               0.0       0.0   \n",
            "\n",
            "      Fam Diabetes  Stroke  CVD  Fam CVD  CHF  Anemia  CKD  \n",
            "0              1.0     0.0  1.0      0.0  0.0     0.0  0.0  \n",
            "1              0.0     0.0  0.0      0.0  0.0     0.0  0.0  \n",
            "2              0.0     0.0  0.0      0.0  0.0     0.0  0.0  \n",
            "3              0.0     0.0  0.0      0.0  0.0     0.0  0.0  \n",
            "4              0.0     0.0  0.0      0.0  0.0     0.0  0.0  \n",
            "...            ...     ...  ...      ...  ...     ...  ...  \n",
            "8814           0.0     0.0  0.0      0.0  0.0     0.0  NaN  \n",
            "8815           0.0     0.0  0.0      0.0  0.0     0.0  NaN  \n",
            "8816           1.0     0.0  0.0      0.0  0.0     0.0  NaN  \n",
            "8817           0.0     0.0  0.0      0.0  0.0     0.0  NaN  \n",
            "8818           0.0     0.0  0.0      0.0  0.0     0.0  NaN  \n",
            "\n",
            "[8819 rows x 34 columns]\n"
          ]
        }
      ]
    },
    {
      "cell_type": "code",
      "source": [
        "df1 = df[[\"Age\", \"Female\", \"Racegrp\", \"Obese\", \"Dyslipidemia\", \"PVD\", \"Activity\", \"Smoker\", \"Hypertension\", \"Diabetes\", \"Stroke\", \"CVD\", \"CHF\", \"CKD\"]]\n",
        "print(df1)"
      ],
      "metadata": {
        "colab": {
          "base_uri": "https://localhost:8080/"
        },
        "id": "04LeS7Pru8Ta",
        "outputId": "a01ac833-875a-4bb7-f25e-1ef52b9b5762"
      },
      "execution_count": null,
      "outputs": [
        {
          "output_type": "stream",
          "name": "stdout",
          "text": [
            "       Age  Female Racegrp  Obese  Dyslipidemia  PVD  Activity  Smoker  \\\n",
            "0     65.0     1.0   white    0.0           0.0  0.0       3.0     1.0   \n",
            "1     36.0     1.0   hispa    0.0           0.0  0.0       3.0     0.0   \n",
            "2     66.0     1.0   white    1.0           1.0  0.0       1.0     1.0   \n",
            "3     54.0     1.0   white    0.0           0.0  0.0       2.0     1.0   \n",
            "4     63.0     1.0   black    0.0           0.0  0.0       1.0     0.0   \n",
            "...    ...     ...     ...    ...           ...  ...       ...     ...   \n",
            "8814  32.0     1.0   white    0.0           0.0  0.0       1.0     1.0   \n",
            "8815  77.0     1.0   white    0.0           0.0  0.0       3.0     0.0   \n",
            "8816  56.0     1.0   white    0.0           0.0  0.0       3.0     0.0   \n",
            "8817  25.0     1.0   black    1.0           0.0  0.0       2.0     0.0   \n",
            "8818  60.0     0.0   black    0.0           0.0  0.0       4.0     0.0   \n",
            "\n",
            "      Hypertension  Diabetes  Stroke  CVD  CHF  CKD  \n",
            "0              0.0       0.0     0.0  1.0  0.0  0.0  \n",
            "1              0.0       0.0     0.0  0.0  0.0  0.0  \n",
            "2              0.0       1.0     0.0  0.0  0.0  0.0  \n",
            "3              0.0       0.0     0.0  0.0  0.0  0.0  \n",
            "4              1.0       0.0     0.0  0.0  0.0  0.0  \n",
            "...            ...       ...     ...  ...  ...  ...  \n",
            "8814           0.0       0.0     0.0  0.0  0.0  NaN  \n",
            "8815           1.0       0.0     0.0  0.0  0.0  NaN  \n",
            "8816           0.0       0.0     0.0  0.0  0.0  NaN  \n",
            "8817           0.0       0.0     0.0  0.0  0.0  NaN  \n",
            "8818           0.0       0.0     0.0  0.0  0.0  NaN  \n",
            "\n",
            "[8819 rows x 14 columns]\n"
          ]
        }
      ]
    },
    {
      "cell_type": "code",
      "source": [
        "df1.isna().sum()"
      ],
      "metadata": {
        "colab": {
          "base_uri": "https://localhost:8080/"
        },
        "id": "tbXurLmHwdB_",
        "outputId": "a3ffca16-6bc1-451f-8afd-9fad81a9e7b6"
      },
      "execution_count": null,
      "outputs": [
        {
          "output_type": "execute_result",
          "data": {
            "text/plain": [
              "Age                0\n",
              "Female             0\n",
              "Racegrp            0\n",
              "Obese            290\n",
              "Dyslipidemia       0\n",
              "PVD                0\n",
              "Activity          10\n",
              "Smoker             0\n",
              "Hypertension      80\n",
              "Diabetes           2\n",
              "Stroke            11\n",
              "CVD               23\n",
              "CHF               36\n",
              "CKD             2819\n",
              "dtype: int64"
            ]
          },
          "metadata": {},
          "execution_count": 44
        }
      ]
    },
    {
      "cell_type": "code",
      "source": [
        "df2 = df1.dropna(subset=['CKD']).fillna(0)\n",
        "df2.isna().sum()\n",
        "print(df2)"
      ],
      "metadata": {
        "colab": {
          "base_uri": "https://localhost:8080/"
        },
        "id": "PBfmfbULxLB3",
        "outputId": "cc411285-a5f4-4c89-ee8b-c2dd75aedb3e"
      },
      "execution_count": null,
      "outputs": [
        {
          "output_type": "stream",
          "name": "stdout",
          "text": [
            "       Age  Female Racegrp  Obese  Dyslipidemia  PVD  Activity  Smoker  \\\n",
            "0     65.0     1.0   white    0.0           0.0  0.0       3.0     1.0   \n",
            "1     36.0     1.0   hispa    0.0           0.0  0.0       3.0     0.0   \n",
            "2     66.0     1.0   white    1.0           1.0  0.0       1.0     1.0   \n",
            "3     54.0     1.0   white    0.0           0.0  0.0       2.0     1.0   \n",
            "4     63.0     1.0   black    0.0           0.0  0.0       1.0     0.0   \n",
            "...    ...     ...     ...    ...           ...  ...       ...     ...   \n",
            "5995  77.0     0.0   white    1.0           0.0  0.0       2.0     1.0   \n",
            "5996  49.0     0.0   white    1.0           0.0  0.0       2.0     0.0   \n",
            "5997  30.0     0.0   black    0.0           0.0  0.0       1.0     0.0   \n",
            "5998  75.0     0.0   black    0.0           0.0  0.0       1.0     1.0   \n",
            "5999  35.0     1.0   white    0.0           0.0  0.0       2.0     1.0   \n",
            "\n",
            "      Hypertension  Diabetes  Stroke  CVD  CHF  CKD  \n",
            "0              0.0       0.0     0.0  1.0  0.0  0.0  \n",
            "1              0.0       0.0     0.0  0.0  0.0  0.0  \n",
            "2              0.0       1.0     0.0  0.0  0.0  0.0  \n",
            "3              0.0       0.0     0.0  0.0  0.0  0.0  \n",
            "4              1.0       0.0     0.0  0.0  0.0  0.0  \n",
            "...            ...       ...     ...  ...  ...  ...  \n",
            "5995           1.0       0.0     0.0  0.0  0.0  1.0  \n",
            "5996           1.0       0.0     0.0  0.0  0.0  0.0  \n",
            "5997           0.0       0.0     0.0  0.0  0.0  0.0  \n",
            "5998           1.0       1.0     0.0  0.0  0.0  0.0  \n",
            "5999           0.0       0.0     0.0  0.0  0.0  0.0  \n",
            "\n",
            "[6000 rows x 14 columns]\n"
          ]
        }
      ]
    },
    {
      "cell_type": "code",
      "source": [
        "df3 = df2\n",
        "df3.loc[(df3['Age'] >= 60), 'Age >=60'] = '1'\n",
        "df3.loc[(df3['Age'] < 60), 'Age >=60'] = '0'\n",
        "df3 = df3.drop(columns=['Age'])\n",
        "\n",
        "df3.head()"
      ],
      "metadata": {
        "colab": {
          "base_uri": "https://localhost:8080/",
          "height": 206
        },
        "id": "3-mqoKg3xqDw",
        "outputId": "e11e7e73-0b61-4b18-b721-65b6f8eece43"
      },
      "execution_count": null,
      "outputs": [
        {
          "output_type": "execute_result",
          "data": {
            "text/plain": [
              "   Female Racegrp  Obese  Dyslipidemia  PVD  Activity  Smoker  Hypertension  \\\n",
              "0     1.0   white    0.0           0.0  0.0       3.0     1.0           0.0   \n",
              "1     1.0   hispa    0.0           0.0  0.0       3.0     0.0           0.0   \n",
              "2     1.0   white    1.0           1.0  0.0       1.0     1.0           0.0   \n",
              "3     1.0   white    0.0           0.0  0.0       2.0     1.0           0.0   \n",
              "4     1.0   black    0.0           0.0  0.0       1.0     0.0           1.0   \n",
              "\n",
              "   Diabetes  Stroke  CVD  CHF  CKD Age >=60  \n",
              "0       0.0     0.0  1.0  0.0  0.0        1  \n",
              "1       0.0     0.0  0.0  0.0  0.0        0  \n",
              "2       1.0     0.0  0.0  0.0  0.0        1  \n",
              "3       0.0     0.0  0.0  0.0  0.0        0  \n",
              "4       0.0     0.0  0.0  0.0  0.0        1  "
            ],
            "text/html": [
              "\n",
              "  <div id=\"df-bb357bb0-c0a5-485b-9f69-ba7f7d1e5531\">\n",
              "    <div class=\"colab-df-container\">\n",
              "      <div>\n",
              "<style scoped>\n",
              "    .dataframe tbody tr th:only-of-type {\n",
              "        vertical-align: middle;\n",
              "    }\n",
              "\n",
              "    .dataframe tbody tr th {\n",
              "        vertical-align: top;\n",
              "    }\n",
              "\n",
              "    .dataframe thead th {\n",
              "        text-align: right;\n",
              "    }\n",
              "</style>\n",
              "<table border=\"1\" class=\"dataframe\">\n",
              "  <thead>\n",
              "    <tr style=\"text-align: right;\">\n",
              "      <th></th>\n",
              "      <th>Female</th>\n",
              "      <th>Racegrp</th>\n",
              "      <th>Obese</th>\n",
              "      <th>Dyslipidemia</th>\n",
              "      <th>PVD</th>\n",
              "      <th>Activity</th>\n",
              "      <th>Smoker</th>\n",
              "      <th>Hypertension</th>\n",
              "      <th>Diabetes</th>\n",
              "      <th>Stroke</th>\n",
              "      <th>CVD</th>\n",
              "      <th>CHF</th>\n",
              "      <th>CKD</th>\n",
              "      <th>Age &gt;=60</th>\n",
              "    </tr>\n",
              "  </thead>\n",
              "  <tbody>\n",
              "    <tr>\n",
              "      <th>0</th>\n",
              "      <td>1.0</td>\n",
              "      <td>white</td>\n",
              "      <td>0.0</td>\n",
              "      <td>0.0</td>\n",
              "      <td>0.0</td>\n",
              "      <td>3.0</td>\n",
              "      <td>1.0</td>\n",
              "      <td>0.0</td>\n",
              "      <td>0.0</td>\n",
              "      <td>0.0</td>\n",
              "      <td>1.0</td>\n",
              "      <td>0.0</td>\n",
              "      <td>0.0</td>\n",
              "      <td>1</td>\n",
              "    </tr>\n",
              "    <tr>\n",
              "      <th>1</th>\n",
              "      <td>1.0</td>\n",
              "      <td>hispa</td>\n",
              "      <td>0.0</td>\n",
              "      <td>0.0</td>\n",
              "      <td>0.0</td>\n",
              "      <td>3.0</td>\n",
              "      <td>0.0</td>\n",
              "      <td>0.0</td>\n",
              "      <td>0.0</td>\n",
              "      <td>0.0</td>\n",
              "      <td>0.0</td>\n",
              "      <td>0.0</td>\n",
              "      <td>0.0</td>\n",
              "      <td>0</td>\n",
              "    </tr>\n",
              "    <tr>\n",
              "      <th>2</th>\n",
              "      <td>1.0</td>\n",
              "      <td>white</td>\n",
              "      <td>1.0</td>\n",
              "      <td>1.0</td>\n",
              "      <td>0.0</td>\n",
              "      <td>1.0</td>\n",
              "      <td>1.0</td>\n",
              "      <td>0.0</td>\n",
              "      <td>1.0</td>\n",
              "      <td>0.0</td>\n",
              "      <td>0.0</td>\n",
              "      <td>0.0</td>\n",
              "      <td>0.0</td>\n",
              "      <td>1</td>\n",
              "    </tr>\n",
              "    <tr>\n",
              "      <th>3</th>\n",
              "      <td>1.0</td>\n",
              "      <td>white</td>\n",
              "      <td>0.0</td>\n",
              "      <td>0.0</td>\n",
              "      <td>0.0</td>\n",
              "      <td>2.0</td>\n",
              "      <td>1.0</td>\n",
              "      <td>0.0</td>\n",
              "      <td>0.0</td>\n",
              "      <td>0.0</td>\n",
              "      <td>0.0</td>\n",
              "      <td>0.0</td>\n",
              "      <td>0.0</td>\n",
              "      <td>0</td>\n",
              "    </tr>\n",
              "    <tr>\n",
              "      <th>4</th>\n",
              "      <td>1.0</td>\n",
              "      <td>black</td>\n",
              "      <td>0.0</td>\n",
              "      <td>0.0</td>\n",
              "      <td>0.0</td>\n",
              "      <td>1.0</td>\n",
              "      <td>0.0</td>\n",
              "      <td>1.0</td>\n",
              "      <td>0.0</td>\n",
              "      <td>0.0</td>\n",
              "      <td>0.0</td>\n",
              "      <td>0.0</td>\n",
              "      <td>0.0</td>\n",
              "      <td>1</td>\n",
              "    </tr>\n",
              "  </tbody>\n",
              "</table>\n",
              "</div>\n",
              "      <button class=\"colab-df-convert\" onclick=\"convertToInteractive('df-bb357bb0-c0a5-485b-9f69-ba7f7d1e5531')\"\n",
              "              title=\"Convert this dataframe to an interactive table.\"\n",
              "              style=\"display:none;\">\n",
              "        \n",
              "  <svg xmlns=\"http://www.w3.org/2000/svg\" height=\"24px\"viewBox=\"0 0 24 24\"\n",
              "       width=\"24px\">\n",
              "    <path d=\"M0 0h24v24H0V0z\" fill=\"none\"/>\n",
              "    <path d=\"M18.56 5.44l.94 2.06.94-2.06 2.06-.94-2.06-.94-.94-2.06-.94 2.06-2.06.94zm-11 1L8.5 8.5l.94-2.06 2.06-.94-2.06-.94L8.5 2.5l-.94 2.06-2.06.94zm10 10l.94 2.06.94-2.06 2.06-.94-2.06-.94-.94-2.06-.94 2.06-2.06.94z\"/><path d=\"M17.41 7.96l-1.37-1.37c-.4-.4-.92-.59-1.43-.59-.52 0-1.04.2-1.43.59L10.3 9.45l-7.72 7.72c-.78.78-.78 2.05 0 2.83L4 21.41c.39.39.9.59 1.41.59.51 0 1.02-.2 1.41-.59l7.78-7.78 2.81-2.81c.8-.78.8-2.07 0-2.86zM5.41 20L4 18.59l7.72-7.72 1.47 1.35L5.41 20z\"/>\n",
              "  </svg>\n",
              "      </button>\n",
              "      \n",
              "  <style>\n",
              "    .colab-df-container {\n",
              "      display:flex;\n",
              "      flex-wrap:wrap;\n",
              "      gap: 12px;\n",
              "    }\n",
              "\n",
              "    .colab-df-convert {\n",
              "      background-color: #E8F0FE;\n",
              "      border: none;\n",
              "      border-radius: 50%;\n",
              "      cursor: pointer;\n",
              "      display: none;\n",
              "      fill: #1967D2;\n",
              "      height: 32px;\n",
              "      padding: 0 0 0 0;\n",
              "      width: 32px;\n",
              "    }\n",
              "\n",
              "    .colab-df-convert:hover {\n",
              "      background-color: #E2EBFA;\n",
              "      box-shadow: 0px 1px 2px rgba(60, 64, 67, 0.3), 0px 1px 3px 1px rgba(60, 64, 67, 0.15);\n",
              "      fill: #174EA6;\n",
              "    }\n",
              "\n",
              "    [theme=dark] .colab-df-convert {\n",
              "      background-color: #3B4455;\n",
              "      fill: #D2E3FC;\n",
              "    }\n",
              "\n",
              "    [theme=dark] .colab-df-convert:hover {\n",
              "      background-color: #434B5C;\n",
              "      box-shadow: 0px 1px 3px 1px rgba(0, 0, 0, 0.15);\n",
              "      filter: drop-shadow(0px 1px 2px rgba(0, 0, 0, 0.3));\n",
              "      fill: #FFFFFF;\n",
              "    }\n",
              "  </style>\n",
              "\n",
              "      <script>\n",
              "        const buttonEl =\n",
              "          document.querySelector('#df-bb357bb0-c0a5-485b-9f69-ba7f7d1e5531 button.colab-df-convert');\n",
              "        buttonEl.style.display =\n",
              "          google.colab.kernel.accessAllowed ? 'block' : 'none';\n",
              "\n",
              "        async function convertToInteractive(key) {\n",
              "          const element = document.querySelector('#df-bb357bb0-c0a5-485b-9f69-ba7f7d1e5531');\n",
              "          const dataTable =\n",
              "            await google.colab.kernel.invokeFunction('convertToInteractive',\n",
              "                                                     [key], {});\n",
              "          if (!dataTable) return;\n",
              "\n",
              "          const docLinkHtml = 'Like what you see? Visit the ' +\n",
              "            '<a target=\"_blank\" href=https://colab.research.google.com/notebooks/data_table.ipynb>data table notebook</a>'\n",
              "            + ' to learn more about interactive tables.';\n",
              "          element.innerHTML = '';\n",
              "          dataTable['output_type'] = 'display_data';\n",
              "          await google.colab.output.renderOutput(dataTable, element);\n",
              "          const docLink = document.createElement('div');\n",
              "          docLink.innerHTML = docLinkHtml;\n",
              "          element.appendChild(docLink);\n",
              "        }\n",
              "      </script>\n",
              "    </div>\n",
              "  </div>\n",
              "  "
            ]
          },
          "metadata": {},
          "execution_count": 46
        }
      ]
    },
    {
      "cell_type": "code",
      "source": [
        "df4 = df3\n",
        "df4.loc[(df4['Racegrp'] == 'white'), 'R:white'] = '1'\n",
        "df4.loc[(df4['Racegrp'] != 'white'), 'R:white'] = '0'\n",
        "\n",
        "df4.loc[(df4['Racegrp'] == 'black'), 'R:black'] = '1'\n",
        "df4.loc[(df4['Racegrp'] != 'black'), 'R:black'] = '0'\n",
        "\n",
        "df4.loc[(df4['Racegrp'] == 'hispa'), 'R:hispa'] = '1'\n",
        "df4.loc[(df4['Racegrp'] != 'hispa'), 'R:hispa'] = '0'\n",
        "\n",
        "df4.loc[(df4['Racegrp'] == 'other'), 'R:other'] = '1'\n",
        "df4.loc[(df4['Racegrp'] != 'other'), 'R:other'] = '0'\n",
        "\n",
        "df4 = df4.drop(columns=['Racegrp'])\n",
        "\n",
        "df4.head()"
      ],
      "metadata": {
        "colab": {
          "base_uri": "https://localhost:8080/",
          "height": 206
        },
        "id": "Wto4AJR80pDE",
        "outputId": "401a5c34-98b8-41d7-d01f-0b6abcb24a67"
      },
      "execution_count": null,
      "outputs": [
        {
          "output_type": "execute_result",
          "data": {
            "text/plain": [
              "   Female  Obese  Dyslipidemia  PVD  Activity  Smoker  Hypertension  Diabetes  \\\n",
              "0     1.0    0.0           0.0  0.0       3.0     1.0           0.0       0.0   \n",
              "1     1.0    0.0           0.0  0.0       3.0     0.0           0.0       0.0   \n",
              "2     1.0    1.0           1.0  0.0       1.0     1.0           0.0       1.0   \n",
              "3     1.0    0.0           0.0  0.0       2.0     1.0           0.0       0.0   \n",
              "4     1.0    0.0           0.0  0.0       1.0     0.0           1.0       0.0   \n",
              "\n",
              "   Stroke  CVD  CHF  CKD Age >=60 R:white R:black R:hispa R:other  \n",
              "0     0.0  1.0  0.0  0.0        1       1       0       0       0  \n",
              "1     0.0  0.0  0.0  0.0        0       0       0       1       0  \n",
              "2     0.0  0.0  0.0  0.0        1       1       0       0       0  \n",
              "3     0.0  0.0  0.0  0.0        0       1       0       0       0  \n",
              "4     0.0  0.0  0.0  0.0        1       0       1       0       0  "
            ],
            "text/html": [
              "\n",
              "  <div id=\"df-13a0e408-2a89-4c14-af9b-ff055754857a\">\n",
              "    <div class=\"colab-df-container\">\n",
              "      <div>\n",
              "<style scoped>\n",
              "    .dataframe tbody tr th:only-of-type {\n",
              "        vertical-align: middle;\n",
              "    }\n",
              "\n",
              "    .dataframe tbody tr th {\n",
              "        vertical-align: top;\n",
              "    }\n",
              "\n",
              "    .dataframe thead th {\n",
              "        text-align: right;\n",
              "    }\n",
              "</style>\n",
              "<table border=\"1\" class=\"dataframe\">\n",
              "  <thead>\n",
              "    <tr style=\"text-align: right;\">\n",
              "      <th></th>\n",
              "      <th>Female</th>\n",
              "      <th>Obese</th>\n",
              "      <th>Dyslipidemia</th>\n",
              "      <th>PVD</th>\n",
              "      <th>Activity</th>\n",
              "      <th>Smoker</th>\n",
              "      <th>Hypertension</th>\n",
              "      <th>Diabetes</th>\n",
              "      <th>Stroke</th>\n",
              "      <th>CVD</th>\n",
              "      <th>CHF</th>\n",
              "      <th>CKD</th>\n",
              "      <th>Age &gt;=60</th>\n",
              "      <th>R:white</th>\n",
              "      <th>R:black</th>\n",
              "      <th>R:hispa</th>\n",
              "      <th>R:other</th>\n",
              "    </tr>\n",
              "  </thead>\n",
              "  <tbody>\n",
              "    <tr>\n",
              "      <th>0</th>\n",
              "      <td>1.0</td>\n",
              "      <td>0.0</td>\n",
              "      <td>0.0</td>\n",
              "      <td>0.0</td>\n",
              "      <td>3.0</td>\n",
              "      <td>1.0</td>\n",
              "      <td>0.0</td>\n",
              "      <td>0.0</td>\n",
              "      <td>0.0</td>\n",
              "      <td>1.0</td>\n",
              "      <td>0.0</td>\n",
              "      <td>0.0</td>\n",
              "      <td>1</td>\n",
              "      <td>1</td>\n",
              "      <td>0</td>\n",
              "      <td>0</td>\n",
              "      <td>0</td>\n",
              "    </tr>\n",
              "    <tr>\n",
              "      <th>1</th>\n",
              "      <td>1.0</td>\n",
              "      <td>0.0</td>\n",
              "      <td>0.0</td>\n",
              "      <td>0.0</td>\n",
              "      <td>3.0</td>\n",
              "      <td>0.0</td>\n",
              "      <td>0.0</td>\n",
              "      <td>0.0</td>\n",
              "      <td>0.0</td>\n",
              "      <td>0.0</td>\n",
              "      <td>0.0</td>\n",
              "      <td>0.0</td>\n",
              "      <td>0</td>\n",
              "      <td>0</td>\n",
              "      <td>0</td>\n",
              "      <td>1</td>\n",
              "      <td>0</td>\n",
              "    </tr>\n",
              "    <tr>\n",
              "      <th>2</th>\n",
              "      <td>1.0</td>\n",
              "      <td>1.0</td>\n",
              "      <td>1.0</td>\n",
              "      <td>0.0</td>\n",
              "      <td>1.0</td>\n",
              "      <td>1.0</td>\n",
              "      <td>0.0</td>\n",
              "      <td>1.0</td>\n",
              "      <td>0.0</td>\n",
              "      <td>0.0</td>\n",
              "      <td>0.0</td>\n",
              "      <td>0.0</td>\n",
              "      <td>1</td>\n",
              "      <td>1</td>\n",
              "      <td>0</td>\n",
              "      <td>0</td>\n",
              "      <td>0</td>\n",
              "    </tr>\n",
              "    <tr>\n",
              "      <th>3</th>\n",
              "      <td>1.0</td>\n",
              "      <td>0.0</td>\n",
              "      <td>0.0</td>\n",
              "      <td>0.0</td>\n",
              "      <td>2.0</td>\n",
              "      <td>1.0</td>\n",
              "      <td>0.0</td>\n",
              "      <td>0.0</td>\n",
              "      <td>0.0</td>\n",
              "      <td>0.0</td>\n",
              "      <td>0.0</td>\n",
              "      <td>0.0</td>\n",
              "      <td>0</td>\n",
              "      <td>1</td>\n",
              "      <td>0</td>\n",
              "      <td>0</td>\n",
              "      <td>0</td>\n",
              "    </tr>\n",
              "    <tr>\n",
              "      <th>4</th>\n",
              "      <td>1.0</td>\n",
              "      <td>0.0</td>\n",
              "      <td>0.0</td>\n",
              "      <td>0.0</td>\n",
              "      <td>1.0</td>\n",
              "      <td>0.0</td>\n",
              "      <td>1.0</td>\n",
              "      <td>0.0</td>\n",
              "      <td>0.0</td>\n",
              "      <td>0.0</td>\n",
              "      <td>0.0</td>\n",
              "      <td>0.0</td>\n",
              "      <td>1</td>\n",
              "      <td>0</td>\n",
              "      <td>1</td>\n",
              "      <td>0</td>\n",
              "      <td>0</td>\n",
              "    </tr>\n",
              "  </tbody>\n",
              "</table>\n",
              "</div>\n",
              "      <button class=\"colab-df-convert\" onclick=\"convertToInteractive('df-13a0e408-2a89-4c14-af9b-ff055754857a')\"\n",
              "              title=\"Convert this dataframe to an interactive table.\"\n",
              "              style=\"display:none;\">\n",
              "        \n",
              "  <svg xmlns=\"http://www.w3.org/2000/svg\" height=\"24px\"viewBox=\"0 0 24 24\"\n",
              "       width=\"24px\">\n",
              "    <path d=\"M0 0h24v24H0V0z\" fill=\"none\"/>\n",
              "    <path d=\"M18.56 5.44l.94 2.06.94-2.06 2.06-.94-2.06-.94-.94-2.06-.94 2.06-2.06.94zm-11 1L8.5 8.5l.94-2.06 2.06-.94-2.06-.94L8.5 2.5l-.94 2.06-2.06.94zm10 10l.94 2.06.94-2.06 2.06-.94-2.06-.94-.94-2.06-.94 2.06-2.06.94z\"/><path d=\"M17.41 7.96l-1.37-1.37c-.4-.4-.92-.59-1.43-.59-.52 0-1.04.2-1.43.59L10.3 9.45l-7.72 7.72c-.78.78-.78 2.05 0 2.83L4 21.41c.39.39.9.59 1.41.59.51 0 1.02-.2 1.41-.59l7.78-7.78 2.81-2.81c.8-.78.8-2.07 0-2.86zM5.41 20L4 18.59l7.72-7.72 1.47 1.35L5.41 20z\"/>\n",
              "  </svg>\n",
              "      </button>\n",
              "      \n",
              "  <style>\n",
              "    .colab-df-container {\n",
              "      display:flex;\n",
              "      flex-wrap:wrap;\n",
              "      gap: 12px;\n",
              "    }\n",
              "\n",
              "    .colab-df-convert {\n",
              "      background-color: #E8F0FE;\n",
              "      border: none;\n",
              "      border-radius: 50%;\n",
              "      cursor: pointer;\n",
              "      display: none;\n",
              "      fill: #1967D2;\n",
              "      height: 32px;\n",
              "      padding: 0 0 0 0;\n",
              "      width: 32px;\n",
              "    }\n",
              "\n",
              "    .colab-df-convert:hover {\n",
              "      background-color: #E2EBFA;\n",
              "      box-shadow: 0px 1px 2px rgba(60, 64, 67, 0.3), 0px 1px 3px 1px rgba(60, 64, 67, 0.15);\n",
              "      fill: #174EA6;\n",
              "    }\n",
              "\n",
              "    [theme=dark] .colab-df-convert {\n",
              "      background-color: #3B4455;\n",
              "      fill: #D2E3FC;\n",
              "    }\n",
              "\n",
              "    [theme=dark] .colab-df-convert:hover {\n",
              "      background-color: #434B5C;\n",
              "      box-shadow: 0px 1px 3px 1px rgba(0, 0, 0, 0.15);\n",
              "      filter: drop-shadow(0px 1px 2px rgba(0, 0, 0, 0.3));\n",
              "      fill: #FFFFFF;\n",
              "    }\n",
              "  </style>\n",
              "\n",
              "      <script>\n",
              "        const buttonEl =\n",
              "          document.querySelector('#df-13a0e408-2a89-4c14-af9b-ff055754857a button.colab-df-convert');\n",
              "        buttonEl.style.display =\n",
              "          google.colab.kernel.accessAllowed ? 'block' : 'none';\n",
              "\n",
              "        async function convertToInteractive(key) {\n",
              "          const element = document.querySelector('#df-13a0e408-2a89-4c14-af9b-ff055754857a');\n",
              "          const dataTable =\n",
              "            await google.colab.kernel.invokeFunction('convertToInteractive',\n",
              "                                                     [key], {});\n",
              "          if (!dataTable) return;\n",
              "\n",
              "          const docLinkHtml = 'Like what you see? Visit the ' +\n",
              "            '<a target=\"_blank\" href=https://colab.research.google.com/notebooks/data_table.ipynb>data table notebook</a>'\n",
              "            + ' to learn more about interactive tables.';\n",
              "          element.innerHTML = '';\n",
              "          dataTable['output_type'] = 'display_data';\n",
              "          await google.colab.output.renderOutput(dataTable, element);\n",
              "          const docLink = document.createElement('div');\n",
              "          docLink.innerHTML = docLinkHtml;\n",
              "          element.appendChild(docLink);\n",
              "        }\n",
              "      </script>\n",
              "    </div>\n",
              "  </div>\n",
              "  "
            ]
          },
          "metadata": {},
          "execution_count": 47
        }
      ]
    },
    {
      "cell_type": "code",
      "source": [
        "df5 = df4\n",
        "df5.loc[(df5['Activity'] == 1.0) | (df5['Activity'] == 0), 'A:sit'] = '1'\n",
        "df5.loc[(df5['Activity'] != 1.0), 'A:sit'] = '0'\n",
        "\n",
        "df5.loc[(df5['Activity'] == 2.0), 'A:walk'] = '1'\n",
        "df5.loc[(df5['Activity'] != 2.0), 'A:walk'] = '0'\n",
        "\n",
        "df5.loc[(df5['Activity'] == 3.0), 'A:light loads'] = '1'\n",
        "df5.loc[(df5['Activity'] != 3.0), 'A:light loads'] = '0'\n",
        "\n",
        "df5.loc[(df5['Activity'] == 4.0), 'A:heavy loads'] = '1'\n",
        "df5.loc[(df5['Activity'] != 4.0), 'A:heavy loads'] = '0'\n",
        "\n",
        "df5 = df5.drop(columns=['Activity'])\n",
        "\n",
        "df5.head()\n",
        "\n"
      ],
      "metadata": {
        "colab": {
          "base_uri": "https://localhost:8080/",
          "height": 288
        },
        "id": "rGjVz4D11jCB",
        "outputId": "edcd93eb-eac9-414e-87f6-597656fc1722"
      },
      "execution_count": null,
      "outputs": [
        {
          "output_type": "execute_result",
          "data": {
            "text/plain": [
              "   Female  Obese  Dyslipidemia  PVD  Smoker  Hypertension  Diabetes  Stroke  \\\n",
              "0     1.0    0.0           0.0  0.0     1.0           0.0       0.0     0.0   \n",
              "1     1.0    0.0           0.0  0.0     0.0           0.0       0.0     0.0   \n",
              "2     1.0    1.0           1.0  0.0     1.0           0.0       1.0     0.0   \n",
              "3     1.0    0.0           0.0  0.0     1.0           0.0       0.0     0.0   \n",
              "4     1.0    0.0           0.0  0.0     0.0           1.0       0.0     0.0   \n",
              "\n",
              "   CVD  CHF  CKD Age >=60 R:white R:black R:hispa R:other A:sit A:walk  \\\n",
              "0  1.0  0.0  0.0        1       1       0       0       0     0      0   \n",
              "1  0.0  0.0  0.0        0       0       0       1       0     0      0   \n",
              "2  0.0  0.0  0.0        1       1       0       0       0     1      0   \n",
              "3  0.0  0.0  0.0        0       1       0       0       0     0      1   \n",
              "4  0.0  0.0  0.0        1       0       1       0       0     1      0   \n",
              "\n",
              "  A:light loads A:heavy loads  \n",
              "0             1             0  \n",
              "1             1             0  \n",
              "2             0             0  \n",
              "3             0             0  \n",
              "4             0             0  "
            ],
            "text/html": [
              "\n",
              "  <div id=\"df-35b23981-49e3-4334-a787-a3f0a4c9ad37\">\n",
              "    <div class=\"colab-df-container\">\n",
              "      <div>\n",
              "<style scoped>\n",
              "    .dataframe tbody tr th:only-of-type {\n",
              "        vertical-align: middle;\n",
              "    }\n",
              "\n",
              "    .dataframe tbody tr th {\n",
              "        vertical-align: top;\n",
              "    }\n",
              "\n",
              "    .dataframe thead th {\n",
              "        text-align: right;\n",
              "    }\n",
              "</style>\n",
              "<table border=\"1\" class=\"dataframe\">\n",
              "  <thead>\n",
              "    <tr style=\"text-align: right;\">\n",
              "      <th></th>\n",
              "      <th>Female</th>\n",
              "      <th>Obese</th>\n",
              "      <th>Dyslipidemia</th>\n",
              "      <th>PVD</th>\n",
              "      <th>Smoker</th>\n",
              "      <th>Hypertension</th>\n",
              "      <th>Diabetes</th>\n",
              "      <th>Stroke</th>\n",
              "      <th>CVD</th>\n",
              "      <th>CHF</th>\n",
              "      <th>CKD</th>\n",
              "      <th>Age &gt;=60</th>\n",
              "      <th>R:white</th>\n",
              "      <th>R:black</th>\n",
              "      <th>R:hispa</th>\n",
              "      <th>R:other</th>\n",
              "      <th>A:sit</th>\n",
              "      <th>A:walk</th>\n",
              "      <th>A:light loads</th>\n",
              "      <th>A:heavy loads</th>\n",
              "    </tr>\n",
              "  </thead>\n",
              "  <tbody>\n",
              "    <tr>\n",
              "      <th>0</th>\n",
              "      <td>1.0</td>\n",
              "      <td>0.0</td>\n",
              "      <td>0.0</td>\n",
              "      <td>0.0</td>\n",
              "      <td>1.0</td>\n",
              "      <td>0.0</td>\n",
              "      <td>0.0</td>\n",
              "      <td>0.0</td>\n",
              "      <td>1.0</td>\n",
              "      <td>0.0</td>\n",
              "      <td>0.0</td>\n",
              "      <td>1</td>\n",
              "      <td>1</td>\n",
              "      <td>0</td>\n",
              "      <td>0</td>\n",
              "      <td>0</td>\n",
              "      <td>0</td>\n",
              "      <td>0</td>\n",
              "      <td>1</td>\n",
              "      <td>0</td>\n",
              "    </tr>\n",
              "    <tr>\n",
              "      <th>1</th>\n",
              "      <td>1.0</td>\n",
              "      <td>0.0</td>\n",
              "      <td>0.0</td>\n",
              "      <td>0.0</td>\n",
              "      <td>0.0</td>\n",
              "      <td>0.0</td>\n",
              "      <td>0.0</td>\n",
              "      <td>0.0</td>\n",
              "      <td>0.0</td>\n",
              "      <td>0.0</td>\n",
              "      <td>0.0</td>\n",
              "      <td>0</td>\n",
              "      <td>0</td>\n",
              "      <td>0</td>\n",
              "      <td>1</td>\n",
              "      <td>0</td>\n",
              "      <td>0</td>\n",
              "      <td>0</td>\n",
              "      <td>1</td>\n",
              "      <td>0</td>\n",
              "    </tr>\n",
              "    <tr>\n",
              "      <th>2</th>\n",
              "      <td>1.0</td>\n",
              "      <td>1.0</td>\n",
              "      <td>1.0</td>\n",
              "      <td>0.0</td>\n",
              "      <td>1.0</td>\n",
              "      <td>0.0</td>\n",
              "      <td>1.0</td>\n",
              "      <td>0.0</td>\n",
              "      <td>0.0</td>\n",
              "      <td>0.0</td>\n",
              "      <td>0.0</td>\n",
              "      <td>1</td>\n",
              "      <td>1</td>\n",
              "      <td>0</td>\n",
              "      <td>0</td>\n",
              "      <td>0</td>\n",
              "      <td>1</td>\n",
              "      <td>0</td>\n",
              "      <td>0</td>\n",
              "      <td>0</td>\n",
              "    </tr>\n",
              "    <tr>\n",
              "      <th>3</th>\n",
              "      <td>1.0</td>\n",
              "      <td>0.0</td>\n",
              "      <td>0.0</td>\n",
              "      <td>0.0</td>\n",
              "      <td>1.0</td>\n",
              "      <td>0.0</td>\n",
              "      <td>0.0</td>\n",
              "      <td>0.0</td>\n",
              "      <td>0.0</td>\n",
              "      <td>0.0</td>\n",
              "      <td>0.0</td>\n",
              "      <td>0</td>\n",
              "      <td>1</td>\n",
              "      <td>0</td>\n",
              "      <td>0</td>\n",
              "      <td>0</td>\n",
              "      <td>0</td>\n",
              "      <td>1</td>\n",
              "      <td>0</td>\n",
              "      <td>0</td>\n",
              "    </tr>\n",
              "    <tr>\n",
              "      <th>4</th>\n",
              "      <td>1.0</td>\n",
              "      <td>0.0</td>\n",
              "      <td>0.0</td>\n",
              "      <td>0.0</td>\n",
              "      <td>0.0</td>\n",
              "      <td>1.0</td>\n",
              "      <td>0.0</td>\n",
              "      <td>0.0</td>\n",
              "      <td>0.0</td>\n",
              "      <td>0.0</td>\n",
              "      <td>0.0</td>\n",
              "      <td>1</td>\n",
              "      <td>0</td>\n",
              "      <td>1</td>\n",
              "      <td>0</td>\n",
              "      <td>0</td>\n",
              "      <td>1</td>\n",
              "      <td>0</td>\n",
              "      <td>0</td>\n",
              "      <td>0</td>\n",
              "    </tr>\n",
              "  </tbody>\n",
              "</table>\n",
              "</div>\n",
              "      <button class=\"colab-df-convert\" onclick=\"convertToInteractive('df-35b23981-49e3-4334-a787-a3f0a4c9ad37')\"\n",
              "              title=\"Convert this dataframe to an interactive table.\"\n",
              "              style=\"display:none;\">\n",
              "        \n",
              "  <svg xmlns=\"http://www.w3.org/2000/svg\" height=\"24px\"viewBox=\"0 0 24 24\"\n",
              "       width=\"24px\">\n",
              "    <path d=\"M0 0h24v24H0V0z\" fill=\"none\"/>\n",
              "    <path d=\"M18.56 5.44l.94 2.06.94-2.06 2.06-.94-2.06-.94-.94-2.06-.94 2.06-2.06.94zm-11 1L8.5 8.5l.94-2.06 2.06-.94-2.06-.94L8.5 2.5l-.94 2.06-2.06.94zm10 10l.94 2.06.94-2.06 2.06-.94-2.06-.94-.94-2.06-.94 2.06-2.06.94z\"/><path d=\"M17.41 7.96l-1.37-1.37c-.4-.4-.92-.59-1.43-.59-.52 0-1.04.2-1.43.59L10.3 9.45l-7.72 7.72c-.78.78-.78 2.05 0 2.83L4 21.41c.39.39.9.59 1.41.59.51 0 1.02-.2 1.41-.59l7.78-7.78 2.81-2.81c.8-.78.8-2.07 0-2.86zM5.41 20L4 18.59l7.72-7.72 1.47 1.35L5.41 20z\"/>\n",
              "  </svg>\n",
              "      </button>\n",
              "      \n",
              "  <style>\n",
              "    .colab-df-container {\n",
              "      display:flex;\n",
              "      flex-wrap:wrap;\n",
              "      gap: 12px;\n",
              "    }\n",
              "\n",
              "    .colab-df-convert {\n",
              "      background-color: #E8F0FE;\n",
              "      border: none;\n",
              "      border-radius: 50%;\n",
              "      cursor: pointer;\n",
              "      display: none;\n",
              "      fill: #1967D2;\n",
              "      height: 32px;\n",
              "      padding: 0 0 0 0;\n",
              "      width: 32px;\n",
              "    }\n",
              "\n",
              "    .colab-df-convert:hover {\n",
              "      background-color: #E2EBFA;\n",
              "      box-shadow: 0px 1px 2px rgba(60, 64, 67, 0.3), 0px 1px 3px 1px rgba(60, 64, 67, 0.15);\n",
              "      fill: #174EA6;\n",
              "    }\n",
              "\n",
              "    [theme=dark] .colab-df-convert {\n",
              "      background-color: #3B4455;\n",
              "      fill: #D2E3FC;\n",
              "    }\n",
              "\n",
              "    [theme=dark] .colab-df-convert:hover {\n",
              "      background-color: #434B5C;\n",
              "      box-shadow: 0px 1px 3px 1px rgba(0, 0, 0, 0.15);\n",
              "      filter: drop-shadow(0px 1px 2px rgba(0, 0, 0, 0.3));\n",
              "      fill: #FFFFFF;\n",
              "    }\n",
              "  </style>\n",
              "\n",
              "      <script>\n",
              "        const buttonEl =\n",
              "          document.querySelector('#df-35b23981-49e3-4334-a787-a3f0a4c9ad37 button.colab-df-convert');\n",
              "        buttonEl.style.display =\n",
              "          google.colab.kernel.accessAllowed ? 'block' : 'none';\n",
              "\n",
              "        async function convertToInteractive(key) {\n",
              "          const element = document.querySelector('#df-35b23981-49e3-4334-a787-a3f0a4c9ad37');\n",
              "          const dataTable =\n",
              "            await google.colab.kernel.invokeFunction('convertToInteractive',\n",
              "                                                     [key], {});\n",
              "          if (!dataTable) return;\n",
              "\n",
              "          const docLinkHtml = 'Like what you see? Visit the ' +\n",
              "            '<a target=\"_blank\" href=https://colab.research.google.com/notebooks/data_table.ipynb>data table notebook</a>'\n",
              "            + ' to learn more about interactive tables.';\n",
              "          element.innerHTML = '';\n",
              "          dataTable['output_type'] = 'display_data';\n",
              "          await google.colab.output.renderOutput(dataTable, element);\n",
              "          const docLink = document.createElement('div');\n",
              "          docLink.innerHTML = docLinkHtml;\n",
              "          element.appendChild(docLink);\n",
              "        }\n",
              "      </script>\n",
              "    </div>\n",
              "  </div>\n",
              "  "
            ]
          },
          "metadata": {},
          "execution_count": 48
        }
      ]
    },
    {
      "cell_type": "code",
      "source": [
        "df55 = df5.eval('NoChrDisease = Obese + Dyslipidemia + PVD + Hypertension\t+ Diabetes + Stroke + CVD + CHF')\n",
        "\n",
        "\n",
        "df55.head()"
      ],
      "metadata": {
        "colab": {
          "base_uri": "https://localhost:8080/",
          "height": 317
        },
        "id": "3dh9b-sNpVN9",
        "outputId": "3aa385cb-f083-45ab-85db-0df4bbd8bb59"
      },
      "execution_count": null,
      "outputs": [
        {
          "output_type": "execute_result",
          "data": {
            "text/plain": [
              "   Female  Obese  Dyslipidemia  PVD  Smoker  Hypertension  Diabetes  Stroke  \\\n",
              "0     1.0    0.0           0.0  0.0     1.0           0.0       0.0     0.0   \n",
              "1     1.0    0.0           0.0  0.0     0.0           0.0       0.0     0.0   \n",
              "2     1.0    1.0           1.0  0.0     1.0           0.0       1.0     0.0   \n",
              "3     1.0    0.0           0.0  0.0     1.0           0.0       0.0     0.0   \n",
              "4     1.0    0.0           0.0  0.0     0.0           1.0       0.0     0.0   \n",
              "\n",
              "   CVD  CHF  ...  Age >=60 R:white R:black R:hispa R:other A:sit A:walk  \\\n",
              "0  1.0  0.0  ...         1       1       0       0       0     0      0   \n",
              "1  0.0  0.0  ...         0       0       0       1       0     0      0   \n",
              "2  0.0  0.0  ...         1       1       0       0       0     1      0   \n",
              "3  0.0  0.0  ...         0       1       0       0       0     0      1   \n",
              "4  0.0  0.0  ...         1       0       1       0       0     1      0   \n",
              "\n",
              "  A:light loads A:heavy loads NoChrDisease  \n",
              "0             1             0          1.0  \n",
              "1             1             0          0.0  \n",
              "2             0             0          3.0  \n",
              "3             0             0          0.0  \n",
              "4             0             0          1.0  \n",
              "\n",
              "[5 rows x 21 columns]"
            ],
            "text/html": [
              "\n",
              "  <div id=\"df-cf3de5b8-5e0c-49bc-bcf1-576c8caebdf3\">\n",
              "    <div class=\"colab-df-container\">\n",
              "      <div>\n",
              "<style scoped>\n",
              "    .dataframe tbody tr th:only-of-type {\n",
              "        vertical-align: middle;\n",
              "    }\n",
              "\n",
              "    .dataframe tbody tr th {\n",
              "        vertical-align: top;\n",
              "    }\n",
              "\n",
              "    .dataframe thead th {\n",
              "        text-align: right;\n",
              "    }\n",
              "</style>\n",
              "<table border=\"1\" class=\"dataframe\">\n",
              "  <thead>\n",
              "    <tr style=\"text-align: right;\">\n",
              "      <th></th>\n",
              "      <th>Female</th>\n",
              "      <th>Obese</th>\n",
              "      <th>Dyslipidemia</th>\n",
              "      <th>PVD</th>\n",
              "      <th>Smoker</th>\n",
              "      <th>Hypertension</th>\n",
              "      <th>Diabetes</th>\n",
              "      <th>Stroke</th>\n",
              "      <th>CVD</th>\n",
              "      <th>CHF</th>\n",
              "      <th>...</th>\n",
              "      <th>Age &gt;=60</th>\n",
              "      <th>R:white</th>\n",
              "      <th>R:black</th>\n",
              "      <th>R:hispa</th>\n",
              "      <th>R:other</th>\n",
              "      <th>A:sit</th>\n",
              "      <th>A:walk</th>\n",
              "      <th>A:light loads</th>\n",
              "      <th>A:heavy loads</th>\n",
              "      <th>NoChrDisease</th>\n",
              "    </tr>\n",
              "  </thead>\n",
              "  <tbody>\n",
              "    <tr>\n",
              "      <th>0</th>\n",
              "      <td>1.0</td>\n",
              "      <td>0.0</td>\n",
              "      <td>0.0</td>\n",
              "      <td>0.0</td>\n",
              "      <td>1.0</td>\n",
              "      <td>0.0</td>\n",
              "      <td>0.0</td>\n",
              "      <td>0.0</td>\n",
              "      <td>1.0</td>\n",
              "      <td>0.0</td>\n",
              "      <td>...</td>\n",
              "      <td>1</td>\n",
              "      <td>1</td>\n",
              "      <td>0</td>\n",
              "      <td>0</td>\n",
              "      <td>0</td>\n",
              "      <td>0</td>\n",
              "      <td>0</td>\n",
              "      <td>1</td>\n",
              "      <td>0</td>\n",
              "      <td>1.0</td>\n",
              "    </tr>\n",
              "    <tr>\n",
              "      <th>1</th>\n",
              "      <td>1.0</td>\n",
              "      <td>0.0</td>\n",
              "      <td>0.0</td>\n",
              "      <td>0.0</td>\n",
              "      <td>0.0</td>\n",
              "      <td>0.0</td>\n",
              "      <td>0.0</td>\n",
              "      <td>0.0</td>\n",
              "      <td>0.0</td>\n",
              "      <td>0.0</td>\n",
              "      <td>...</td>\n",
              "      <td>0</td>\n",
              "      <td>0</td>\n",
              "      <td>0</td>\n",
              "      <td>1</td>\n",
              "      <td>0</td>\n",
              "      <td>0</td>\n",
              "      <td>0</td>\n",
              "      <td>1</td>\n",
              "      <td>0</td>\n",
              "      <td>0.0</td>\n",
              "    </tr>\n",
              "    <tr>\n",
              "      <th>2</th>\n",
              "      <td>1.0</td>\n",
              "      <td>1.0</td>\n",
              "      <td>1.0</td>\n",
              "      <td>0.0</td>\n",
              "      <td>1.0</td>\n",
              "      <td>0.0</td>\n",
              "      <td>1.0</td>\n",
              "      <td>0.0</td>\n",
              "      <td>0.0</td>\n",
              "      <td>0.0</td>\n",
              "      <td>...</td>\n",
              "      <td>1</td>\n",
              "      <td>1</td>\n",
              "      <td>0</td>\n",
              "      <td>0</td>\n",
              "      <td>0</td>\n",
              "      <td>1</td>\n",
              "      <td>0</td>\n",
              "      <td>0</td>\n",
              "      <td>0</td>\n",
              "      <td>3.0</td>\n",
              "    </tr>\n",
              "    <tr>\n",
              "      <th>3</th>\n",
              "      <td>1.0</td>\n",
              "      <td>0.0</td>\n",
              "      <td>0.0</td>\n",
              "      <td>0.0</td>\n",
              "      <td>1.0</td>\n",
              "      <td>0.0</td>\n",
              "      <td>0.0</td>\n",
              "      <td>0.0</td>\n",
              "      <td>0.0</td>\n",
              "      <td>0.0</td>\n",
              "      <td>...</td>\n",
              "      <td>0</td>\n",
              "      <td>1</td>\n",
              "      <td>0</td>\n",
              "      <td>0</td>\n",
              "      <td>0</td>\n",
              "      <td>0</td>\n",
              "      <td>1</td>\n",
              "      <td>0</td>\n",
              "      <td>0</td>\n",
              "      <td>0.0</td>\n",
              "    </tr>\n",
              "    <tr>\n",
              "      <th>4</th>\n",
              "      <td>1.0</td>\n",
              "      <td>0.0</td>\n",
              "      <td>0.0</td>\n",
              "      <td>0.0</td>\n",
              "      <td>0.0</td>\n",
              "      <td>1.0</td>\n",
              "      <td>0.0</td>\n",
              "      <td>0.0</td>\n",
              "      <td>0.0</td>\n",
              "      <td>0.0</td>\n",
              "      <td>...</td>\n",
              "      <td>1</td>\n",
              "      <td>0</td>\n",
              "      <td>1</td>\n",
              "      <td>0</td>\n",
              "      <td>0</td>\n",
              "      <td>1</td>\n",
              "      <td>0</td>\n",
              "      <td>0</td>\n",
              "      <td>0</td>\n",
              "      <td>1.0</td>\n",
              "    </tr>\n",
              "  </tbody>\n",
              "</table>\n",
              "<p>5 rows × 21 columns</p>\n",
              "</div>\n",
              "      <button class=\"colab-df-convert\" onclick=\"convertToInteractive('df-cf3de5b8-5e0c-49bc-bcf1-576c8caebdf3')\"\n",
              "              title=\"Convert this dataframe to an interactive table.\"\n",
              "              style=\"display:none;\">\n",
              "        \n",
              "  <svg xmlns=\"http://www.w3.org/2000/svg\" height=\"24px\"viewBox=\"0 0 24 24\"\n",
              "       width=\"24px\">\n",
              "    <path d=\"M0 0h24v24H0V0z\" fill=\"none\"/>\n",
              "    <path d=\"M18.56 5.44l.94 2.06.94-2.06 2.06-.94-2.06-.94-.94-2.06-.94 2.06-2.06.94zm-11 1L8.5 8.5l.94-2.06 2.06-.94-2.06-.94L8.5 2.5l-.94 2.06-2.06.94zm10 10l.94 2.06.94-2.06 2.06-.94-2.06-.94-.94-2.06-.94 2.06-2.06.94z\"/><path d=\"M17.41 7.96l-1.37-1.37c-.4-.4-.92-.59-1.43-.59-.52 0-1.04.2-1.43.59L10.3 9.45l-7.72 7.72c-.78.78-.78 2.05 0 2.83L4 21.41c.39.39.9.59 1.41.59.51 0 1.02-.2 1.41-.59l7.78-7.78 2.81-2.81c.8-.78.8-2.07 0-2.86zM5.41 20L4 18.59l7.72-7.72 1.47 1.35L5.41 20z\"/>\n",
              "  </svg>\n",
              "      </button>\n",
              "      \n",
              "  <style>\n",
              "    .colab-df-container {\n",
              "      display:flex;\n",
              "      flex-wrap:wrap;\n",
              "      gap: 12px;\n",
              "    }\n",
              "\n",
              "    .colab-df-convert {\n",
              "      background-color: #E8F0FE;\n",
              "      border: none;\n",
              "      border-radius: 50%;\n",
              "      cursor: pointer;\n",
              "      display: none;\n",
              "      fill: #1967D2;\n",
              "      height: 32px;\n",
              "      padding: 0 0 0 0;\n",
              "      width: 32px;\n",
              "    }\n",
              "\n",
              "    .colab-df-convert:hover {\n",
              "      background-color: #E2EBFA;\n",
              "      box-shadow: 0px 1px 2px rgba(60, 64, 67, 0.3), 0px 1px 3px 1px rgba(60, 64, 67, 0.15);\n",
              "      fill: #174EA6;\n",
              "    }\n",
              "\n",
              "    [theme=dark] .colab-df-convert {\n",
              "      background-color: #3B4455;\n",
              "      fill: #D2E3FC;\n",
              "    }\n",
              "\n",
              "    [theme=dark] .colab-df-convert:hover {\n",
              "      background-color: #434B5C;\n",
              "      box-shadow: 0px 1px 3px 1px rgba(0, 0, 0, 0.15);\n",
              "      filter: drop-shadow(0px 1px 2px rgba(0, 0, 0, 0.3));\n",
              "      fill: #FFFFFF;\n",
              "    }\n",
              "  </style>\n",
              "\n",
              "      <script>\n",
              "        const buttonEl =\n",
              "          document.querySelector('#df-cf3de5b8-5e0c-49bc-bcf1-576c8caebdf3 button.colab-df-convert');\n",
              "        buttonEl.style.display =\n",
              "          google.colab.kernel.accessAllowed ? 'block' : 'none';\n",
              "\n",
              "        async function convertToInteractive(key) {\n",
              "          const element = document.querySelector('#df-cf3de5b8-5e0c-49bc-bcf1-576c8caebdf3');\n",
              "          const dataTable =\n",
              "            await google.colab.kernel.invokeFunction('convertToInteractive',\n",
              "                                                     [key], {});\n",
              "          if (!dataTable) return;\n",
              "\n",
              "          const docLinkHtml = 'Like what you see? Visit the ' +\n",
              "            '<a target=\"_blank\" href=https://colab.research.google.com/notebooks/data_table.ipynb>data table notebook</a>'\n",
              "            + ' to learn more about interactive tables.';\n",
              "          element.innerHTML = '';\n",
              "          dataTable['output_type'] = 'display_data';\n",
              "          await google.colab.output.renderOutput(dataTable, element);\n",
              "          const docLink = document.createElement('div');\n",
              "          docLink.innerHTML = docLinkHtml;\n",
              "          element.appendChild(docLink);\n",
              "        }\n",
              "      </script>\n",
              "    </div>\n",
              "  </div>\n",
              "  "
            ]
          },
          "metadata": {},
          "execution_count": 49
        }
      ]
    },
    {
      "cell_type": "code",
      "source": [
        "df5['Female'].value_counts()"
      ],
      "metadata": {
        "colab": {
          "base_uri": "https://localhost:8080/"
        },
        "id": "2CtJYX9bEwec",
        "outputId": "439b3702-a58d-43b6-d787-060aa7d959c3"
      },
      "execution_count": null,
      "outputs": [
        {
          "output_type": "execute_result",
          "data": {
            "text/plain": [
              "1.0    3135\n",
              "0.0    2865\n",
              "Name: Female, dtype: int64"
            ]
          },
          "metadata": {},
          "execution_count": 50
        }
      ]
    },
    {
      "cell_type": "code",
      "source": [
        "gdf55 = df55.groupby(by=\"CKD\", dropna=False)\n",
        "gdf55['NoChrDisease'].value_counts()"
      ],
      "metadata": {
        "colab": {
          "base_uri": "https://localhost:8080/"
        },
        "id": "mk0aq4_YqGVt",
        "outputId": "1369f335-a65d-4a69-ebb2-5ec4e9c54b1c"
      },
      "execution_count": null,
      "outputs": [
        {
          "output_type": "execute_result",
          "data": {
            "text/plain": [
              "CKD  NoChrDisease\n",
              "0.0  0.0             2249\n",
              "     1.0             1792\n",
              "     2.0             1005\n",
              "     3.0              344\n",
              "     4.0              105\n",
              "     5.0               32\n",
              "     6.0                7\n",
              "     7.0                1\n",
              "     8.0                1\n",
              "1.0  2.0              143\n",
              "     1.0              120\n",
              "     3.0              103\n",
              "     4.0               41\n",
              "     0.0               38\n",
              "     5.0               12\n",
              "     6.0                6\n",
              "     7.0                1\n",
              "Name: NoChrDisease, dtype: int64"
            ]
          },
          "metadata": {},
          "execution_count": 51
        }
      ]
    },
    {
      "cell_type": "code",
      "source": [
        "df56 = pd.DataFrame({'No of Chronic diseases': [2249, 1792, 1005, 344, 105, 32, 7, 1, 1]},\n",
        "                  index=['0', '1', '2', '3', '4', '5', '6', '7', '8'])\n",
        "plot = df56.plot.pie(y='No of Chronic diseases', figsize=(5, 5), autopct='%1.0f%%')"
      ],
      "metadata": {
        "colab": {
          "base_uri": "https://localhost:8080/",
          "height": 303
        },
        "id": "qaoLta-4qs7P",
        "outputId": "a32dc85a-9d82-495a-d9d3-e5cffc2be750"
      },
      "execution_count": null,
      "outputs": [
        {
          "output_type": "display_data",
          "data": {
            "text/plain": [
              "<Figure size 360x360 with 1 Axes>"
            ],
            "image/png": "[encoded data removed]"
          },
          "metadata": {}
        }
      ]
    },
    {
      "cell_type": "code",
      "source": [
        "df57 = pd.DataFrame({'No of Chronic diseases': [38, 120, 143, 103, 41, 12, 6, 1, 0]},\n",
        "                  index=['0', '1', '2', '3', '4', '5', '6', '7', '8'])\n",
        "plot = df57.plot.pie(y='No of Chronic diseases', figsize=(5, 5), autopct='%1.0f%%')"
      ],
      "metadata": {
        "colab": {
          "base_uri": "https://localhost:8080/",
          "height": 303
        },
        "id": "Py755rVrrNzP",
        "outputId": "698d368d-41f3-43ca-b30b-9c5529f41ca3"
      },
      "execution_count": null,
      "outputs": [
        {
          "output_type": "display_data",
          "data": {
            "text/plain": [
              "<Figure size 360x360 with 1 Axes>"
            ],
            "image/png": "[encoded data removed]"
          },
          "metadata": {}
        }
      ]
    },
    {
      "cell_type": "code",
      "source": [
        "#df5['Obese'].round(decimals = 2)\n",
        "df6 = df5\n",
        "\n",
        "df6['Female']= df6['Female'].apply(int).apply(str)\n",
        "df6['Obese']= df6['Obese'].apply(int).apply(str)\n",
        "df6['Dyslipidemia']= df6['Dyslipidemia'].apply(int).apply(str)\n",
        "df6['PVD']= df6['PVD'].apply(int).apply(str)\n",
        "df6['Smoker']= df6['Smoker'].apply(int).apply(str)\n",
        "df6['Hypertension']= df6['Hypertension'].apply(int).apply(str)\n",
        "df6['Diabetes']= df6['Diabetes'].apply(int).apply(str)\n",
        "df6['Stroke']= df6['Stroke'].apply(int).apply(str)\n",
        "df6['CVD']= df6['CVD'].apply(int).apply(str)\n",
        "df6['CHF']= df6['CHF'].apply(int).apply(str)\n",
        "df6['CKD']= df6['CKD'].apply(int).apply(str)\n",
        "\n",
        "df6.info()"
      ],
      "metadata": {
        "colab": {
          "base_uri": "https://localhost:8080/"
        },
        "id": "FbVJ-Hgt26qD",
        "outputId": "56beba0c-8ac6-40f5-ae0f-ad12401e6895"
      },
      "execution_count": null,
      "outputs": [
        {
          "output_type": "stream",
          "name": "stdout",
          "text": [
            "<class 'pandas.core.frame.DataFrame'>\n",
            "Int64Index: 6000 entries, 0 to 5999\n",
            "Data columns (total 20 columns):\n",
            " #   Column         Non-Null Count  Dtype \n",
            "---  ------         --------------  ----- \n",
            " 0   Female         6000 non-null   object\n",
            " 1   Obese          6000 non-null   object\n",
            " 2   Dyslipidemia   6000 non-null   object\n",
            " 3   PVD            6000 non-null   object\n",
            " 4   Smoker         6000 non-null   object\n",
            " 5   Hypertension   6000 non-null   object\n",
            " 6   Diabetes       6000 non-null   object\n",
            " 7   Stroke         6000 non-null   object\n",
            " 8   CVD            6000 non-null   object\n",
            " 9   CHF            6000 non-null   object\n",
            " 10  CKD            6000 non-null   object\n",
            " 11  Age >=60       6000 non-null   object\n",
            " 12  R:white        6000 non-null   object\n",
            " 13  R:black        6000 non-null   object\n",
            " 14  R:hispa        6000 non-null   object\n",
            " 15  R:other        6000 non-null   object\n",
            " 16  A:sit          6000 non-null   object\n",
            " 17  A:walk         6000 non-null   object\n",
            " 18  A:light loads  6000 non-null   object\n",
            " 19  A:heavy loads  6000 non-null   object\n",
            "dtypes: object(20)\n",
            "memory usage: 984.4+ KB\n"
          ]
        }
      ]
    },
    {
      "cell_type": "code",
      "source": [
        "df6.head()"
      ],
      "metadata": {
        "id": "sqsNRicC4Pk3",
        "colab": {
          "base_uri": "https://localhost:8080/",
          "height": 288
        },
        "outputId": "2bb21dd3-b027-4f19-a101-71f65c6309e3"
      },
      "execution_count": null,
      "outputs": [
        {
          "output_type": "execute_result",
          "data": {
            "text/plain": [
              "  Female Obese Dyslipidemia PVD Smoker Hypertension Diabetes Stroke CVD CHF  \\\n",
              "0      1     0            0   0      1            0        0      0   1   0   \n",
              "1      1     0            0   0      0            0        0      0   0   0   \n",
              "2      1     1            1   0      1            0        1      0   0   0   \n",
              "3      1     0            0   0      1            0        0      0   0   0   \n",
              "4      1     0            0   0      0            1        0      0   0   0   \n",
              "\n",
              "  CKD Age >=60 R:white R:black R:hispa R:other A:sit A:walk A:light loads  \\\n",
              "0   0        1       1       0       0       0     0      0             1   \n",
              "1   0        0       0       0       1       0     0      0             1   \n",
              "2   0        1       1       0       0       0     1      0             0   \n",
              "3   0        0       1       0       0       0     0      1             0   \n",
              "4   0        1       0       1       0       0     1      0             0   \n",
              "\n",
              "  A:heavy loads  \n",
              "0             0  \n",
              "1             0  \n",
              "2             0  \n",
              "3             0  \n",
              "4             0  "
            ],
            "text/html": [
              "\n",
              "  <div id=\"df-a4d0de30-a3ea-4a86-bb54-8fcf9feef71b\">\n",
              "    <div class=\"colab-df-container\">\n",
              "      <div>\n",
              "<style scoped>\n",
              "    .dataframe tbody tr th:only-of-type {\n",
              "        vertical-align: middle;\n",
              "    }\n",
              "\n",
              "    .dataframe tbody tr th {\n",
              "        vertical-align: top;\n",
              "    }\n",
              "\n",
              "    .dataframe thead th {\n",
              "        text-align: right;\n",
              "    }\n",
              "</style>\n",
              "<table border=\"1\" class=\"dataframe\">\n",
              "  <thead>\n",
              "    <tr style=\"text-align: right;\">\n",
              "      <th></th>\n",
              "      <th>Female</th>\n",
              "      <th>Obese</th>\n",
              "      <th>Dyslipidemia</th>\n",
              "      <th>PVD</th>\n",
              "      <th>Smoker</th>\n",
              "      <th>Hypertension</th>\n",
              "      <th>Diabetes</th>\n",
              "      <th>Stroke</th>\n",
              "      <th>CVD</th>\n",
              "      <th>CHF</th>\n",
              "      <th>CKD</th>\n",
              "      <th>Age &gt;=60</th>\n",
              "      <th>R:white</th>\n",
              "      <th>R:black</th>\n",
              "      <th>R:hispa</th>\n",
              "      <th>R:other</th>\n",
              "      <th>A:sit</th>\n",
              "      <th>A:walk</th>\n",
              "      <th>A:light loads</th>\n",
              "      <th>A:heavy loads</th>\n",
              "    </tr>\n",
              "  </thead>\n",
              "  <tbody>\n",
              "    <tr>\n",
              "      <th>0</th>\n",
              "      <td>1</td>\n",
              "      <td>0</td>\n",
              "      <td>0</td>\n",
              "      <td>0</td>\n",
              "      <td>1</td>\n",
              "      <td>0</td>\n",
              "      <td>0</td>\n",
              "      <td>0</td>\n",
              "      <td>1</td>\n",
              "      <td>0</td>\n",
              "      <td>0</td>\n",
              "      <td>1</td>\n",
              "      <td>1</td>\n",
              "      <td>0</td>\n",
              "      <td>0</td>\n",
              "      <td>0</td>\n",
              "      <td>0</td>\n",
              "      <td>0</td>\n",
              "      <td>1</td>\n",
              "      <td>0</td>\n",
              "    </tr>\n",
              "    <tr>\n",
              "      <th>1</th>\n",
              "      <td>1</td>\n",
              "      <td>0</td>\n",
              "      <td>0</td>\n",
              "      <td>0</td>\n",
              "      <td>0</td>\n",
              "      <td>0</td>\n",
              "      <td>0</td>\n",
              "      <td>0</td>\n",
              "      <td>0</td>\n",
              "      <td>0</td>\n",
              "      <td>0</td>\n",
              "      <td>0</td>\n",
              "      <td>0</td>\n",
              "      <td>0</td>\n",
              "      <td>1</td>\n",
              "      <td>0</td>\n",
              "      <td>0</td>\n",
              "      <td>0</td>\n",
              "      <td>1</td>\n",
              "      <td>0</td>\n",
              "    </tr>\n",
              "    <tr>\n",
              "      <th>2</th>\n",
              "      <td>1</td>\n",
              "      <td>1</td>\n",
              "      <td>1</td>\n",
              "      <td>0</td>\n",
              "      <td>1</td>\n",
              "      <td>0</td>\n",
              "      <td>1</td>\n",
              "      <td>0</td>\n",
              "      <td>0</td>\n",
              "      <td>0</td>\n",
              "      <td>0</td>\n",
              "      <td>1</td>\n",
              "      <td>1</td>\n",
              "      <td>0</td>\n",
              "      <td>0</td>\n",
              "      <td>0</td>\n",
              "      <td>1</td>\n",
              "      <td>0</td>\n",
              "      <td>0</td>\n",
              "      <td>0</td>\n",
              "    </tr>\n",
              "    <tr>\n",
              "      <th>3</th>\n",
              "      <td>1</td>\n",
              "      <td>0</td>\n",
              "      <td>0</td>\n",
              "      <td>0</td>\n",
              "      <td>1</td>\n",
              "      <td>0</td>\n",
              "      <td>0</td>\n",
              "      <td>0</td>\n",
              "      <td>0</td>\n",
              "      <td>0</td>\n",
              "      <td>0</td>\n",
              "      <td>0</td>\n",
              "      <td>1</td>\n",
              "      <td>0</td>\n",
              "      <td>0</td>\n",
              "      <td>0</td>\n",
              "      <td>0</td>\n",
              "      <td>1</td>\n",
              "      <td>0</td>\n",
              "      <td>0</td>\n",
              "    </tr>\n",
              "    <tr>\n",
              "      <th>4</th>\n",
              "      <td>1</td>\n",
              "      <td>0</td>\n",
              "      <td>0</td>\n",
              "      <td>0</td>\n",
              "      <td>0</td>\n",
              "      <td>1</td>\n",
              "      <td>0</td>\n",
              "      <td>0</td>\n",
              "      <td>0</td>\n",
              "      <td>0</td>\n",
              "      <td>0</td>\n",
              "      <td>1</td>\n",
              "      <td>0</td>\n",
              "      <td>1</td>\n",
              "      <td>0</td>\n",
              "      <td>0</td>\n",
              "      <td>1</td>\n",
              "      <td>0</td>\n",
              "      <td>0</td>\n",
              "      <td>0</td>\n",
              "    </tr>\n",
              "  </tbody>\n",
              "</table>\n",
              "</div>\n",
              "      <button class=\"colab-df-convert\" onclick=\"convertToInteractive('df-a4d0de30-a3ea-4a86-bb54-8fcf9feef71b')\"\n",
              "              title=\"Convert this dataframe to an interactive table.\"\n",
              "              style=\"display:none;\">\n",
              "        \n",
              "  <svg xmlns=\"http://www.w3.org/2000/svg\" height=\"24px\"viewBox=\"0 0 24 24\"\n",
              "       width=\"24px\">\n",
              "    <path d=\"M0 0h24v24H0V0z\" fill=\"none\"/>\n",
              "    <path d=\"M18.56 5.44l.94 2.06.94-2.06 2.06-.94-2.06-.94-.94-2.06-.94 2.06-2.06.94zm-11 1L8.5 8.5l.94-2.06 2.06-.94-2.06-.94L8.5 2.5l-.94 2.06-2.06.94zm10 10l.94 2.06.94-2.06 2.06-.94-2.06-.94-.94-2.06-.94 2.06-2.06.94z\"/><path d=\"M17.41 7.96l-1.37-1.37c-.4-.4-.92-.59-1.43-.59-.52 0-1.04.2-1.43.59L10.3 9.45l-7.72 7.72c-.78.78-.78 2.05 0 2.83L4 21.41c.39.39.9.59 1.41.59.51 0 1.02-.2 1.41-.59l7.78-7.78 2.81-2.81c.8-.78.8-2.07 0-2.86zM5.41 20L4 18.59l7.72-7.72 1.47 1.35L5.41 20z\"/>\n",
              "  </svg>\n",
              "      </button>\n",
              "      \n",
              "  <style>\n",
              "    .colab-df-container {\n",
              "      display:flex;\n",
              "      flex-wrap:wrap;\n",
              "      gap: 12px;\n",
              "    }\n",
              "\n",
              "    .colab-df-convert {\n",
              "      background-color: #E8F0FE;\n",
              "      border: none;\n",
              "      border-radius: 50%;\n",
              "      cursor: pointer;\n",
              "      display: none;\n",
              "      fill: #1967D2;\n",
              "      height: 32px;\n",
              "      padding: 0 0 0 0;\n",
              "      width: 32px;\n",
              "    }\n",
              "\n",
              "    .colab-df-convert:hover {\n",
              "      background-color: #E2EBFA;\n",
              "      box-shadow: 0px 1px 2px rgba(60, 64, 67, 0.3), 0px 1px 3px 1px rgba(60, 64, 67, 0.15);\n",
              "      fill: #174EA6;\n",
              "    }\n",
              "\n",
              "    [theme=dark] .colab-df-convert {\n",
              "      background-color: #3B4455;\n",
              "      fill: #D2E3FC;\n",
              "    }\n",
              "\n",
              "    [theme=dark] .colab-df-convert:hover {\n",
              "      background-color: #434B5C;\n",
              "      box-shadow: 0px 1px 3px 1px rgba(0, 0, 0, 0.15);\n",
              "      filter: drop-shadow(0px 1px 2px rgba(0, 0, 0, 0.3));\n",
              "      fill: #FFFFFF;\n",
              "    }\n",
              "  </style>\n",
              "\n",
              "      <script>\n",
              "        const buttonEl =\n",
              "          document.querySelector('#df-a4d0de30-a3ea-4a86-bb54-8fcf9feef71b button.colab-df-convert');\n",
              "        buttonEl.style.display =\n",
              "          google.colab.kernel.accessAllowed ? 'block' : 'none';\n",
              "\n",
              "        async function convertToInteractive(key) {\n",
              "          const element = document.querySelector('#df-a4d0de30-a3ea-4a86-bb54-8fcf9feef71b');\n",
              "          const dataTable =\n",
              "            await google.colab.kernel.invokeFunction('convertToInteractive',\n",
              "                                                     [key], {});\n",
              "          if (!dataTable) return;\n",
              "\n",
              "          const docLinkHtml = 'Like what you see? Visit the ' +\n",
              "            '<a target=\"_blank\" href=https://colab.research.google.com/notebooks/data_table.ipynb>data table notebook</a>'\n",
              "            + ' to learn more about interactive tables.';\n",
              "          element.innerHTML = '';\n",
              "          dataTable['output_type'] = 'display_data';\n",
              "          await google.colab.output.renderOutput(dataTable, element);\n",
              "          const docLink = document.createElement('div');\n",
              "          docLink.innerHTML = docLinkHtml;\n",
              "          element.appendChild(docLink);\n",
              "        }\n",
              "      </script>\n",
              "    </div>\n",
              "  </div>\n",
              "  "
            ]
          },
          "metadata": {},
          "execution_count": 55
        }
      ]
    },
    {
      "cell_type": "code",
      "source": [
        "X = df6.drop(columns=['CKD'])\n",
        "y = df6[['CKD']]\n",
        "\n",
        "#apply SelectKBest class to extract top 10 best features\n",
        "bestfeatures = SelectKBest(score_func=chi2, k=10)\n",
        "fit = bestfeatures.fit(X,y)\n",
        "dfscores = pd.DataFrame(fit.scores_)\n",
        "dfcolumns = pd.DataFrame(X.columns)\n",
        "#concat two dataframes for better visualization\n",
        "featureScores = pd.concat([dfcolumns,dfscores],axis=1)\n",
        "featureScores.columns = ['Risk factors','Score']  #naming the dataframe columns\n",
        "print(featureScores.nlargest(10,'Score'))  #print 10 best features"
      ],
      "metadata": {
        "id": "AF9BArUt8BIP",
        "colab": {
          "base_uri": "https://localhost:8080/"
        },
        "outputId": "348a0e9f-3f21-403c-e19a-d8fc8b17f06e"
      },
      "execution_count": null,
      "outputs": [
        {
          "output_type": "stream",
          "name": "stdout",
          "text": [
            "    Risk factors       Score\n",
            "10      Age >=60  440.260209\n",
            "8            CVD  258.657545\n",
            "5   Hypertension  198.589784\n",
            "3            PVD  164.617751\n",
            "9            CHF  152.839990\n",
            "7         Stroke  148.669286\n",
            "6       Diabetes  129.211602\n",
            "15         A:sit   50.553997\n",
            "13       R:hispa   34.675722\n",
            "11       R:white   30.926579\n"
          ]
        }
      ]
    },
    {
      "cell_type": "code",
      "source": [
        "from sklearn.ensemble import ExtraTreesClassifier\n",
        "import matplotlib.pyplot as plt\n",
        "model = ExtraTreesClassifier()\n",
        "model.fit(X,y)\n",
        "print(model.feature_importances_) #use inbuilt class feature_importances of tree based classifiers\n",
        "#plot graph of feature importances for better visualization\n",
        "feat_importances = pd.Series(model.feature_importances_, index=X.columns)\n",
        "feat_importances.nlargest(10).plot(kind='barh')\n",
        "plt.show()"
      ],
      "metadata": {
        "id": "62Ku1xQ_8dIB",
        "colab": {
          "base_uri": "https://localhost:8080/",
          "height": 392
        },
        "outputId": "b49e8b10-a4f0-4c83-a19a-e5b7acab0e58"
      },
      "execution_count": null,
      "outputs": [
        {
          "output_type": "stream",
          "name": "stderr",
          "text": [
            "<ipython-input-57-664012bd4b97>:4: DataConversionWarning: A column-vector y was passed when a 1d array was expected. Please change the shape of y to (n_samples,), for example using ravel().\n",
            "  model.fit(X,y)\n"
          ]
        },
        {
          "output_type": "stream",
          "name": "stdout",
          "text": [
            "[0.0858128  0.07505345 0.05542664 0.05600256 0.08076502 0.07451824\n",
            " 0.06947087 0.03959895 0.06164837 0.06202322 0.16885564 0.03236999\n",
            " 0.02134578 0.02695573 0.00693178 0.02999269 0.02802162 0.01729346\n",
            " 0.00791319]\n"
          ]
        },
        {
          "output_type": "display_data",
          "data": {
            "text/plain": [
              "<Figure size 432x288 with 1 Axes>"
            ],
            "image/png": "[encoded data removed]"
          },
          "metadata": {
            "needs_background": "light"
          }
        }
      ]
    },
    {
      "cell_type": "code",
      "source": [
        "from sklearn.model_selection import train_test_split\n",
        "\n",
        "Y1=df6['CKD'].values\n",
        "X1=df6[df6.columns.drop(['CKD'])].values\n",
        "X_train, X_test, y_train, y_test = train_test_split(X1, Y1, test_size=0.3, stratify=Y1,random_state=123) # 70% training and 30% test\n",
        "\n",
        "df6['CKD'].value_counts()"
      ],
      "metadata": {
        "id": "ccxyauAj8rr1",
        "colab": {
          "base_uri": "https://localhost:8080/"
        },
        "outputId": "c5c246b8-1718-414c-ef6d-3f29b9fd5b92"
      },
      "execution_count": null,
      "outputs": [
        {
          "output_type": "execute_result",
          "data": {
            "text/plain": [
              "0    5536\n",
              "1     464\n",
              "Name: CKD, dtype: int64"
            ]
          },
          "metadata": {},
          "execution_count": 58
        }
      ]
    },
    {
      "cell_type": "code",
      "source": [
        "logistic = LogisticRegression(solver='liblinear', multi_class='ovr', random_state=0)\n",
        "logistic.fit(X_train, y_train)\n",
        "logistic_ypred = logistic.predict(X_test)\n",
        "print('The accuracy of logistic regression for training dataset is ', logistic.score(X_train, y_train))\n",
        "print('The accuracy of logistic regression for testing dataset is ', logistic.score(X_test, y_test))"
      ],
      "metadata": {
        "id": "IITTwM_DGfDq",
        "colab": {
          "base_uri": "https://localhost:8080/"
        },
        "outputId": "02a1d611-247c-4f79-a82e-6c4664b701fd"
      },
      "execution_count": null,
      "outputs": [
        {
          "output_type": "stream",
          "name": "stdout",
          "text": [
            "The accuracy of logistic regression for training dataset is  0.9219047619047619\n",
            "The accuracy of logistic regression for testing dataset is  0.9227777777777778\n"
          ]
        }
      ]
    },
    {
      "cell_type": "code",
      "source": [
        "logistic.predict_proba(X_test)"
      ],
      "metadata": {
        "id": "6NnUP96FGu_s",
        "colab": {
          "base_uri": "https://localhost:8080/"
        },
        "outputId": "2f724664-e052-4ed1-9a07-ee88302aab33"
      },
      "execution_count": null,
      "outputs": [
        {
          "output_type": "execute_result",
          "data": {
            "text/plain": [
              "array([[0.9536561 , 0.0463439 ],\n",
              "       [0.89829121, 0.10170879],\n",
              "       [0.98386499, 0.01613501],\n",
              "       ...,\n",
              "       [0.98142006, 0.01857994],\n",
              "       [0.73158381, 0.26841619],\n",
              "       [0.98606072, 0.01393928]])"
            ]
          },
          "metadata": {},
          "execution_count": 60
        }
      ]
    },
    {
      "cell_type": "code",
      "source": [
        "plot_confusion_matrix(logistic, X_test, y_test)"
      ],
      "metadata": {
        "id": "jdqhyslAGwEr",
        "colab": {
          "base_uri": "https://localhost:8080/",
          "height": 353
        },
        "outputId": "1f42c27a-f1bd-4a23-be77-53ab45e79ff8"
      },
      "execution_count": null,
      "outputs": [
        {
          "output_type": "stream",
          "name": "stderr",
          "text": [
            "/usr/local/lib/python3.8/dist-packages/sklearn/utils/deprecation.py:87: FutureWarning: Function plot_confusion_matrix is deprecated; Function `plot_confusion_matrix` is deprecated in 1.0 and will be removed in 1.2. Use one of the class methods: ConfusionMatrixDisplay.from_predictions or ConfusionMatrixDisplay.from_estimator.\n",
            "  warnings.warn(msg, category=FutureWarning)\n"
          ]
        },
        {
          "output_type": "execute_result",
          "data": {
            "text/plain": [
              "<sklearn.metrics._plot.confusion_matrix.ConfusionMatrixDisplay at 0x7f18a1d8e220>"
            ]
          },
          "metadata": {},
          "execution_count": 61
        },
        {
          "output_type": "display_data",
          "data": {
            "text/plain": [
              "<Figure size 432x288 with 2 Axes>"
            ],
            "image/png": "[encoded data removed]"
          },
          "metadata": {
            "needs_background": "light"
          }
        }
      ]
    },
    {
      "cell_type": "code",
      "source": [
        "print(classification_report(y_test, logistic_ypred))"
      ],
      "metadata": {
        "id": "WqWCyKbOG0zR",
        "colab": {
          "base_uri": "https://localhost:8080/"
        },
        "outputId": "d3c97a2a-906e-43ae-ba90-f9a0ba67bf7f"
      },
      "execution_count": null,
      "outputs": [
        {
          "output_type": "stream",
          "name": "stdout",
          "text": [
            "              precision    recall  f1-score   support\n",
            "\n",
            "           0       0.93      1.00      0.96      1661\n",
            "           1       0.50      0.04      0.07       139\n",
            "\n",
            "    accuracy                           0.92      1800\n",
            "   macro avg       0.71      0.52      0.51      1800\n",
            "weighted avg       0.89      0.92      0.89      1800\n",
            "\n"
          ]
        }
      ]
    },
    {
      "cell_type": "code",
      "source": [
        "\n",
        "# logistic regression for feature importance\n",
        "from sklearn.datasets import make_classification\n",
        "from sklearn.linear_model import LogisticRegression\n",
        "from matplotlib import pyplot\n",
        "\n",
        "# get importance\n",
        "importance = logistic.coef_[0]\n",
        "# summarize feature importance\n",
        "for i,v in enumerate(importance):\n",
        " print('Feature: %0d, Score: %.5f' % (i,v))\n",
        "# plot feature importance\n",
        "pyplot.bar([x for x in range(len(importance))], importance)\n",
        "pyplot.show()"
      ],
      "metadata": {
        "id": "XO-Qo97GHLMe",
        "colab": {
          "base_uri": "https://localhost:8080/",
          "height": 604
        },
        "outputId": "49d58def-23e0-499a-cc78-d75bc8126be5"
      },
      "execution_count": null,
      "outputs": [
        {
          "output_type": "stream",
          "name": "stdout",
          "text": [
            "Feature: 0, Score: 0.14591\n",
            "Feature: 1, Score: -0.14851\n",
            "Feature: 2, Score: 0.02492\n",
            "Feature: 3, Score: 0.64841\n",
            "Feature: 4, Score: -0.11283\n",
            "Feature: 5, Score: 1.00427\n",
            "Feature: 6, Score: 0.48839\n",
            "Feature: 7, Score: 0.12422\n",
            "Feature: 8, Score: 0.50153\n",
            "Feature: 9, Score: 0.50502\n",
            "Feature: 10, Score: 1.95229\n",
            "Feature: 11, Score: -0.34836\n",
            "Feature: 12, Score: -0.89832\n",
            "Feature: 13, Score: -1.28243\n",
            "Feature: 14, Score: -0.82337\n",
            "Feature: 15, Score: -0.15325\n",
            "Feature: 16, Score: -0.55557\n",
            "Feature: 17, Score: -1.03007\n",
            "Feature: 18, Score: -1.06138\n"
          ]
        },
        {
          "output_type": "display_data",
          "data": {
            "text/plain": [
              "<Figure size 432x288 with 1 Axes>"
            ],
            "image/png": "[encoded data removed]"
          },
          "metadata": {
            "needs_background": "light"
          }
        }
      ]
    },
    {
      "cell_type": "code",
      "source": [
        "col = df6.columns.drop(['CKD'])\n",
        "importance = logistic.coef_[0]\n",
        "\n",
        "fea_dfxc = pd.DataFrame({'columns':col,'importance':importance})\n",
        "fea_dfxc.sort_values(by=['importance'],inplace=True,ascending=False)\n",
        "fea_dfxc.reset_index(drop=True,inplace=True)\n",
        "# display(fea_dfxc)\n",
        "fea_dfxc.head(19)"
      ],
      "metadata": {
        "id": "pGK9gbRFIlWx",
        "colab": {
          "base_uri": "https://localhost:8080/",
          "height": 645
        },
        "outputId": "1beed6d5-3841-425e-f960-77c75525694a"
      },
      "execution_count": null,
      "outputs": [
        {
          "output_type": "execute_result",
          "data": {
            "text/plain": [
              "          columns  importance\n",
              "0        Age >=60    1.952293\n",
              "1    Hypertension    1.004273\n",
              "2             PVD    0.648411\n",
              "3             CHF    0.505017\n",
              "4             CVD    0.501534\n",
              "5        Diabetes    0.488387\n",
              "6          Female    0.145911\n",
              "7          Stroke    0.124218\n",
              "8    Dyslipidemia    0.024923\n",
              "9          Smoker   -0.112833\n",
              "10          Obese   -0.148510\n",
              "11          A:sit   -0.153252\n",
              "12        R:white   -0.348362\n",
              "13         A:walk   -0.555574\n",
              "14        R:other   -0.823365\n",
              "15        R:black   -0.898318\n",
              "16  A:light loads   -1.030068\n",
              "17  A:heavy loads   -1.061381\n",
              "18        R:hispa   -1.282427"
            ],
            "text/html": [
              "\n",
              "  <div id=\"df-135a2700-98e7-4ed9-97dd-8e58ef3fb85c\">\n",
              "    <div class=\"colab-df-container\">\n",
              "      <div>\n",
              "<style scoped>\n",
              "    .dataframe tbody tr th:only-of-type {\n",
              "        vertical-align: middle;\n",
              "    }\n",
              "\n",
              "    .dataframe tbody tr th {\n",
              "        vertical-align: top;\n",
              "    }\n",
              "\n",
              "    .dataframe thead th {\n",
              "        text-align: right;\n",
              "    }\n",
              "</style>\n",
              "<table border=\"1\" class=\"dataframe\">\n",
              "  <thead>\n",
              "    <tr style=\"text-align: right;\">\n",
              "      <th></th>\n",
              "      <th>columns</th>\n",
              "      <th>importance</th>\n",
              "    </tr>\n",
              "  </thead>\n",
              "  <tbody>\n",
              "    <tr>\n",
              "      <th>0</th>\n",
              "      <td>Age &gt;=60</td>\n",
              "      <td>1.952293</td>\n",
              "    </tr>\n",
              "    <tr>\n",
              "      <th>1</th>\n",
              "      <td>Hypertension</td>\n",
              "      <td>1.004273</td>\n",
              "    </tr>\n",
              "    <tr>\n",
              "      <th>2</th>\n",
              "      <td>PVD</td>\n",
              "      <td>0.648411</td>\n",
              "    </tr>\n",
              "    <tr>\n",
              "      <th>3</th>\n",
              "      <td>CHF</td>\n",
              "      <td>0.505017</td>\n",
              "    </tr>\n",
              "    <tr>\n",
              "      <th>4</th>\n",
              "      <td>CVD</td>\n",
              "      <td>0.501534</td>\n",
              "    </tr>\n",
              "    <tr>\n",
              "      <th>5</th>\n",
              "      <td>Diabetes</td>\n",
              "      <td>0.488387</td>\n",
              "    </tr>\n",
              "    <tr>\n",
              "      <th>6</th>\n",
              "      <td>Female</td>\n",
              "      <td>0.145911</td>\n",
              "    </tr>\n",
              "    <tr>\n",
              "      <th>7</th>\n",
              "      <td>Stroke</td>\n",
              "      <td>0.124218</td>\n",
              "    </tr>\n",
              "    <tr>\n",
              "      <th>8</th>\n",
              "      <td>Dyslipidemia</td>\n",
              "      <td>0.024923</td>\n",
              "    </tr>\n",
              "    <tr>\n",
              "      <th>9</th>\n",
              "      <td>Smoker</td>\n",
              "      <td>-0.112833</td>\n",
              "    </tr>\n",
              "    <tr>\n",
              "      <th>10</th>\n",
              "      <td>Obese</td>\n",
              "      <td>-0.148510</td>\n",
              "    </tr>\n",
              "    <tr>\n",
              "      <th>11</th>\n",
              "      <td>A:sit</td>\n",
              "      <td>-0.153252</td>\n",
              "    </tr>\n",
              "    <tr>\n",
              "      <th>12</th>\n",
              "      <td>R:white</td>\n",
              "      <td>-0.348362</td>\n",
              "    </tr>\n",
              "    <tr>\n",
              "      <th>13</th>\n",
              "      <td>A:walk</td>\n",
              "      <td>-0.555574</td>\n",
              "    </tr>\n",
              "    <tr>\n",
              "      <th>14</th>\n",
              "      <td>R:other</td>\n",
              "      <td>-0.823365</td>\n",
              "    </tr>\n",
              "    <tr>\n",
              "      <th>15</th>\n",
              "      <td>R:black</td>\n",
              "      <td>-0.898318</td>\n",
              "    </tr>\n",
              "    <tr>\n",
              "      <th>16</th>\n",
              "      <td>A:light loads</td>\n",
              "      <td>-1.030068</td>\n",
              "    </tr>\n",
              "    <tr>\n",
              "      <th>17</th>\n",
              "      <td>A:heavy loads</td>\n",
              "      <td>-1.061381</td>\n",
              "    </tr>\n",
              "    <tr>\n",
              "      <th>18</th>\n",
              "      <td>R:hispa</td>\n",
              "      <td>-1.282427</td>\n",
              "    </tr>\n",
              "  </tbody>\n",
              "</table>\n",
              "</div>\n",
              "      <button class=\"colab-df-convert\" onclick=\"convertToInteractive('df-135a2700-98e7-4ed9-97dd-8e58ef3fb85c')\"\n",
              "              title=\"Convert this dataframe to an interactive table.\"\n",
              "              style=\"display:none;\">\n",
              "        \n",
              "  <svg xmlns=\"http://www.w3.org/2000/svg\" height=\"24px\"viewBox=\"0 0 24 24\"\n",
              "       width=\"24px\">\n",
              "    <path d=\"M0 0h24v24H0V0z\" fill=\"none\"/>\n",
              "    <path d=\"M18.56 5.44l.94 2.06.94-2.06 2.06-.94-2.06-.94-.94-2.06-.94 2.06-2.06.94zm-11 1L8.5 8.5l.94-2.06 2.06-.94-2.06-.94L8.5 2.5l-.94 2.06-2.06.94zm10 10l.94 2.06.94-2.06 2.06-.94-2.06-.94-.94-2.06-.94 2.06-2.06.94z\"/><path d=\"M17.41 7.96l-1.37-1.37c-.4-.4-.92-.59-1.43-.59-.52 0-1.04.2-1.43.59L10.3 9.45l-7.72 7.72c-.78.78-.78 2.05 0 2.83L4 21.41c.39.39.9.59 1.41.59.51 0 1.02-.2 1.41-.59l7.78-7.78 2.81-2.81c.8-.78.8-2.07 0-2.86zM5.41 20L4 18.59l7.72-7.72 1.47 1.35L5.41 20z\"/>\n",
              "  </svg>\n",
              "      </button>\n",
              "      \n",
              "  <style>\n",
              "    .colab-df-container {\n",
              "      display:flex;\n",
              "      flex-wrap:wrap;\n",
              "      gap: 12px;\n",
              "    }\n",
              "\n",
              "    .colab-df-convert {\n",
              "      background-color: #E8F0FE;\n",
              "      border: none;\n",
              "      border-radius: 50%;\n",
              "      cursor: pointer;\n",
              "      display: none;\n",
              "      fill: #1967D2;\n",
              "      height: 32px;\n",
              "      padding: 0 0 0 0;\n",
              "      width: 32px;\n",
              "    }\n",
              "\n",
              "    .colab-df-convert:hover {\n",
              "      background-color: #E2EBFA;\n",
              "      box-shadow: 0px 1px 2px rgba(60, 64, 67, 0.3), 0px 1px 3px 1px rgba(60, 64, 67, 0.15);\n",
              "      fill: #174EA6;\n",
              "    }\n",
              "\n",
              "    [theme=dark] .colab-df-convert {\n",
              "      background-color: #3B4455;\n",
              "      fill: #D2E3FC;\n",
              "    }\n",
              "\n",
              "    [theme=dark] .colab-df-convert:hover {\n",
              "      background-color: #434B5C;\n",
              "      box-shadow: 0px 1px 3px 1px rgba(0, 0, 0, 0.15);\n",
              "      filter: drop-shadow(0px 1px 2px rgba(0, 0, 0, 0.3));\n",
              "      fill: #FFFFFF;\n",
              "    }\n",
              "  </style>\n",
              "\n",
              "      <script>\n",
              "        const buttonEl =\n",
              "          document.querySelector('#df-135a2700-98e7-4ed9-97dd-8e58ef3fb85c button.colab-df-convert');\n",
              "        buttonEl.style.display =\n",
              "          google.colab.kernel.accessAllowed ? 'block' : 'none';\n",
              "\n",
              "        async function convertToInteractive(key) {\n",
              "          const element = document.querySelector('#df-135a2700-98e7-4ed9-97dd-8e58ef3fb85c');\n",
              "          const dataTable =\n",
              "            await google.colab.kernel.invokeFunction('convertToInteractive',\n",
              "                                                     [key], {});\n",
              "          if (!dataTable) return;\n",
              "\n",
              "          const docLinkHtml = 'Like what you see? Visit the ' +\n",
              "            '<a target=\"_blank\" href=https://colab.research.google.com/notebooks/data_table.ipynb>data table notebook</a>'\n",
              "            + ' to learn more about interactive tables.';\n",
              "          element.innerHTML = '';\n",
              "          dataTable['output_type'] = 'display_data';\n",
              "          await google.colab.output.renderOutput(dataTable, element);\n",
              "          const docLink = document.createElement('div');\n",
              "          docLink.innerHTML = docLinkHtml;\n",
              "          element.appendChild(docLink);\n",
              "        }\n",
              "      </script>\n",
              "    </div>\n",
              "  </div>\n",
              "  "
            ]
          },
          "metadata": {},
          "execution_count": 67
        }
      ]
    },
    {
      "cell_type": "code",
      "source": [
        "#dfุ6.groupby(by=\"CKD\", dropna=False)\n",
        "\n",
        "\n",
        "gdf6 = df6.groupby(by=\"CKD\", dropna=False)\n",
        "gdf6['Age >=60'].value_counts()"
      ],
      "metadata": {
        "id": "be55MKEDYcRx",
        "colab": {
          "base_uri": "https://localhost:8080/"
        },
        "outputId": "635e423a-6172-446a-ba99-d600e50480fc"
      },
      "execution_count": null,
      "outputs": [
        {
          "output_type": "execute_result",
          "data": {
            "text/plain": [
              "CKD  Age >=60\n",
              "0    0           3931\n",
              "     1           1605\n",
              "1    1            407\n",
              "     0             57\n",
              "Name: Age >=60, dtype: int64"
            ]
          },
          "metadata": {},
          "execution_count": 68
        }
      ]
    },
    {
      "cell_type": "code",
      "source": [
        "df11 = pd.DataFrame({'Age >=60': [3931, 1605]},\n",
        "                  index=['Yes', 'No'])\n",
        "plot = df11.plot.pie(y='Age >=60', figsize=(5, 5), autopct='%1.0f%%')\n",
        "\n"
      ],
      "metadata": {
        "id": "ri1_dzgWXr-Z",
        "colab": {
          "base_uri": "https://localhost:8080/",
          "height": 303
        },
        "outputId": "21415222-b5c3-4610-f860-17eb8449ebf9"
      },
      "execution_count": null,
      "outputs": [
        {
          "output_type": "display_data",
          "data": {
            "text/plain": [
              "<Figure size 360x360 with 1 Axes>"
            ],
            "image/png": "[encoded data removed]"
          },
          "metadata": {}
        }
      ]
    },
    {
      "cell_type": "code",
      "source": [
        "df12 = pd.DataFrame({'Age >=60': [407, 57]},\n",
        "                  index=['Yes', 'No'])\n",
        "plot = df12.plot.pie(y='Age >=60', figsize=(5, 5), autopct='%1.0f%%')\n"
      ],
      "metadata": {
        "id": "EIfBqeejakUH",
        "colab": {
          "base_uri": "https://localhost:8080/",
          "height": 303
        },
        "outputId": "2aab1bda-7050-4129-a555-88d659b58905"
      },
      "execution_count": null,
      "outputs": [
        {
          "output_type": "display_data",
          "data": {
            "text/plain": [
              "<Figure size 360x360 with 1 Axes>"
            ],
            "image/png": "[encoded data removed]"
          },
          "metadata": {}
        }
      ]
    },
    {
      "cell_type": "code",
      "source": [
        "df13 = pd.DataFrame({'Age >=60': [1605, 497]},\n",
        "                  index=['No CKD', 'CKD'])\n",
        "plot = df13.plot.pie(y='Age >=60', figsize=(5, 5), autopct='%1.0f%%')"
      ],
      "metadata": {
        "id": "5keKZF5_axof",
        "colab": {
          "base_uri": "https://localhost:8080/",
          "height": 303
        },
        "outputId": "fe7e1fc1-9b5e-4558-b056-337264c5b915"
      },
      "execution_count": null,
      "outputs": [
        {
          "output_type": "display_data",
          "data": {
            "text/plain": [
              "<Figure size 360x360 with 1 Axes>"
            ],
            "image/png": "[encoded data removed]"
          },
          "metadata": {}
        }
      ]
    },
    {
      "cell_type": "code",
      "source": [
        "#dfุ6.groupby(by=\"CKD\", dropna=False)\n",
        "\n",
        "\n",
        "gdf6 = df6.groupby(by=\"CKD\", dropna=False)\n",
        "gdf6['Hypertension'].value_counts()"
      ],
      "metadata": {
        "id": "I6jZDvOEl-fy",
        "colab": {
          "base_uri": "https://localhost:8080/"
        },
        "outputId": "4b1d9c1e-f41a-4c0f-c1a2-22fea82e35b3"
      },
      "execution_count": null,
      "outputs": [
        {
          "output_type": "execute_result",
          "data": {
            "text/plain": [
              "CKD  Hypertension\n",
              "0    0               3529\n",
              "     1               2007\n",
              "1    1                367\n",
              "     0                 97\n",
              "Name: Hypertension, dtype: int64"
            ]
          },
          "metadata": {},
          "execution_count": 72
        }
      ]
    },
    {
      "cell_type": "code",
      "source": [
        "df21 = pd.DataFrame({'Hypertension': [2007, 3527]},\n",
        "                  index=['Yes', 'No'])\n",
        "plot = df21.plot.pie(y='Hypertension', figsize=(5, 5), autopct='%1.0f%%')"
      ],
      "metadata": {
        "id": "vzNU84C2mC4q",
        "colab": {
          "base_uri": "https://localhost:8080/",
          "height": 303
        },
        "outputId": "9bdf001b-c335-4473-fc6e-f2f36c19e7b9"
      },
      "execution_count": null,
      "outputs": [
        {
          "output_type": "display_data",
          "data": {
            "text/plain": [
              "<Figure size 360x360 with 1 Axes>"
            ],
            "image/png": "[encoded data removed]"
          },
          "metadata": {}
        }
      ]
    },
    {
      "cell_type": "code",
      "source": [
        "df22 = pd.DataFrame({'Hypertension': [367, 97]},\n",
        "                  index=['Yes', 'No'])\n",
        "plot = df22.plot.pie(y='Hypertension', figsize=(5, 5), autopct='%1.0f%%')"
      ],
      "metadata": {
        "id": "ohFMqqndmPLG",
        "colab": {
          "base_uri": "https://localhost:8080/",
          "height": 303
        },
        "outputId": "6cf784b9-e333-4cc6-d1fd-7c37cee7e8cd"
      },
      "execution_count": null,
      "outputs": [
        {
          "output_type": "display_data",
          "data": {
            "text/plain": [
              "<Figure size 360x360 with 1 Axes>"
            ],
            "image/png": "[encoded data removed]"
          },
          "metadata": {}
        }
      ]
    },
    {
      "cell_type": "code",
      "source": [
        "df23 = pd.DataFrame({'Hypertension': [2007, 367]},\n",
        "                  index=['No CKD', 'CKD'])\n",
        "plot = df23.plot.pie(y='Hypertension', figsize=(5, 5), autopct='%1.0f%%')"
      ],
      "metadata": {
        "id": "x53iE7D0m0Fa",
        "colab": {
          "base_uri": "https://localhost:8080/",
          "height": 303
        },
        "outputId": "abfee8e9-558b-4d59-fff3-db317bd49869"
      },
      "execution_count": null,
      "outputs": [
        {
          "output_type": "display_data",
          "data": {
            "text/plain": [
              "<Figure size 360x360 with 1 Axes>"
            ],
            "image/png": "[encoded data removed]"
          },
          "metadata": {}
        }
      ]
    }
  ]
}